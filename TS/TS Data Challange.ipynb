{
 "cells": [
  {
   "cell_type": "markdown",
   "metadata": {},
   "source": [
    "# NYC MTA Turnstile Usage Dataset\n",
    "\n",
    "Have a look at / download the following dataset :\n",
    "\n",
    "- Go to http://web.mta.info/developers/turnstile.html\n",
    "- This dataset shows entry & exit counter values for each turnstile-device in each station in the NYC Subway System.\n",
    "- Note these aren’t counts per interval, but equivalent to an “odometer” reading for each device.\n",
    " "
   ]
  },
  {
   "cell_type": "markdown",
   "metadata": {},
   "source": [
    "# Step 0 - data download\n",
    "\n",
    "Since the analytics and visulization tasks are based on 2013 data stats. I only downloaded the last day of 2011, all 2012 data, all 2013 data, and the first day of 2014.\n",
    "\n",
    "Tool used: Firefox plugin --- DownThemAll!!!"
   ]
  },
  {
   "cell_type": "code",
   "execution_count": 1,
   "metadata": {
    "collapsed": true
   },
   "outputs": [],
   "source": [
    "# files were downloaded to \n",
    "work_path = \"/Users/Wenjie/Projects/GitHub/Tinny/TS/MTA\""
   ]
  },
  {
   "cell_type": "markdown",
   "metadata": {},
   "source": [
    "# Step 1 - raw data load"
   ]
  },
  {
   "cell_type": "code",
   "execution_count": 2,
   "metadata": {
    "collapsed": false
   },
   "outputs": [],
   "source": [
    "import numpy  as np\n",
    "import pandas as pd\n",
    "\n",
    "import matplotlib.pyplot as plt\n",
    "import matplotlib\n",
    "matplotlib.style.use('ggplot')\n",
    "\n",
    "import os, sys\n",
    "import csv\n",
    "import glob\n",
    "import math\n",
    "\n",
    "from datetime import datetime\n",
    "from glob     import glob"
   ]
  },
  {
   "cell_type": "code",
   "execution_count": 204,
   "metadata": {
    "collapsed": false
   },
   "outputs": [
    {
     "data": {
      "text/plain": [
       "6"
      ]
     },
     "execution_count": 204,
     "metadata": {},
     "output_type": "execute_result"
    }
   ],
   "source": [
    "#file_list = glob( work_path + \"/*.txt\" )\n",
    "file_list = [\"turnstile_130810.txt\", \"turnstile_130817.txt\", \"turnstile_130824.txt\",\n",
    "             \"turnstile_121208.txt\", \"turnstile_121215.txt\", \"turnstile_121222.txt\"]\n",
    "\n",
    "# header used\n",
    "header = (\"C/A,UNIT,SCP,\" + \\\n",
    "          \"DATE1,TIME1,DESC1,ENTRIES1,EXITS1,DATE2,TIME2,DESC2,ENTRIES2,EXITS2,\" + \\\n",
    "          \"DATE3,TIME3,DESC3,ENTRIES3,EXITS3,DATE4,TIME4,DESC4,ENTRIES4,EXITS4,\" + \\\n",
    "          \"DATE5,TIME5,DESC5,ENTRIES5,EXITS5,DATE6,TIME6,DESC6,ENTRIES6,EXITS6,\" + \\\n",
    "          \"DATE7,TIME7,DESC7,ENTRIES7,EXITS7,DATE8,TIME8,DESC8,ENTRIES8,EXITS8\").split(\",\")\n",
    "\n",
    "df_raw_list = []\n",
    "for filename in file_list:\n",
    "    try:\n",
    "        df_raw = pd.read_csv(work_path + \"/\" + filename, sep = ',', header = None)\n",
    "        #df_raw = pd.read_csv(filename, sep = ',', header = None)\n",
    "        df_raw.columns = header\n",
    "        df_raw_list.append( df_raw )\n",
    "    except:\n",
    "        pass\n",
    "\n",
    "len(df_raw_list)"
   ]
  },
  {
   "cell_type": "code",
   "execution_count": 205,
   "metadata": {
    "collapsed": false
   },
   "outputs": [
    {
     "data": {
      "text/plain": [
       "(1379000, 8)"
      ]
     },
     "execution_count": 205,
     "metadata": {},
     "output_type": "execute_result"
    }
   ],
   "source": [
    "# convert format from\n",
    "\n",
    "# ca,unit,scp,rec1 ... rec8\n",
    "# .\n",
    "# .\n",
    "# to\n",
    "# ca,unit,scp,rec1\n",
    "# ca,unit,scp,rec2\n",
    "# .\n",
    "# .\n",
    "\n",
    "def mta_df_normalization( df ):\n",
    "    \"\"\" normalize the data frame. claps datetime, desc, entries, and exists \"\"\"\n",
    "    \n",
    "    columns_name = [\"C/A\",\"UNIT\",\"SCP\",\"Date\",\"Time\",\"Desc\",\"Entries\",\"Exits\"]    \n",
    "    df_out       = pd.DataFrame(columns = columns_name)\n",
    "    \n",
    "    rec_1 = df[ [\"C/A\",\"UNIT\",\"SCP\",\"DATE1\",\"TIME1\",\"DESC1\",\"ENTRIES1\",\"EXITS1\"] ]; rec_1.columns = columns_name\n",
    "    rec_2 = df[ [\"C/A\",\"UNIT\",\"SCP\",\"DATE2\",\"TIME2\",\"DESC2\",\"ENTRIES2\",\"EXITS2\"] ]; rec_2.columns = columns_name \n",
    "    rec_3 = df[ [\"C/A\",\"UNIT\",\"SCP\",\"DATE3\",\"TIME3\",\"DESC3\",\"ENTRIES3\",\"EXITS3\"] ]; rec_3.columns = columns_name\n",
    "    rec_4 = df[ [\"C/A\",\"UNIT\",\"SCP\",\"DATE4\",\"TIME4\",\"DESC4\",\"ENTRIES4\",\"EXITS4\"] ]; rec_4.columns = columns_name\n",
    "    rec_5 = df[ [\"C/A\",\"UNIT\",\"SCP\",\"DATE5\",\"TIME5\",\"DESC5\",\"ENTRIES5\",\"EXITS5\"] ]; rec_5.columns = columns_name\n",
    "    rec_6 = df[ [\"C/A\",\"UNIT\",\"SCP\",\"DATE6\",\"TIME6\",\"DESC6\",\"ENTRIES6\",\"EXITS6\"] ]; rec_6.columns = columns_name\n",
    "    rec_7 = df[ [\"C/A\",\"UNIT\",\"SCP\",\"DATE7\",\"TIME7\",\"DESC7\",\"ENTRIES7\",\"EXITS7\"] ]; rec_7.columns = columns_name\n",
    "    rec_8 = df[ [\"C/A\",\"UNIT\",\"SCP\",\"DATE8\",\"TIME8\",\"DESC8\",\"ENTRIES8\",\"EXITS8\"] ]; rec_8.columns = columns_name\n",
    "    \n",
    "    df_out = pd.concat( [rec_1, rec_2, rec_3, rec_4, rec_5, rec_6, rec_7, rec_8] )\n",
    "    \n",
    "    return df_out\n",
    "\n",
    "norm_list = [ mta_df_normalization( df ) for df in df_raw_list]\n",
    "df_norm   = pd.concat( norm_list )\n",
    "df_norm.shape"
   ]
  },
  {
   "cell_type": "code",
   "execution_count": 234,
   "metadata": {
    "collapsed": false
   },
   "outputs": [
    {
     "data": {
      "text/plain": [
       "C/A                 object\n",
       "UNIT                object\n",
       "SCP                 object\n",
       "Date                object\n",
       "Time                object\n",
       "Desc                object\n",
       "Entries            float64\n",
       "Exits              float64\n",
       "Station             object\n",
       "DateTime    datetime64[ns]\n",
       "Year                object\n",
       "Quarter             object\n",
       "dtype: object"
      ]
     },
     "execution_count": 234,
     "metadata": {},
     "output_type": "execute_result"
    }
   ],
   "source": [
    "df_norm.dtypes"
   ]
  },
  {
   "cell_type": "markdown",
   "metadata": {},
   "source": [
    "# Step 2 - data pre-processing / cleaning\n",
    "\n",
    "- definiton of \"station\"\n",
    "- datetime convertion\n",
    "- hourly / daily traffic calculation\n",
    "- anormilies and outliers cleaning"
   ]
  },
  {
   "cell_type": "code",
   "execution_count": 206,
   "metadata": {
    "collapsed": true
   },
   "outputs": [],
   "source": [
    "del norm_list"
   ]
  },
  {
   "cell_type": "code",
   "execution_count": 207,
   "metadata": {
    "collapsed": false
   },
   "outputs": [
    {
     "data": {
      "text/html": [
       "<div>\n",
       "<table border=\"1\" class=\"dataframe\">\n",
       "  <thead>\n",
       "    <tr style=\"text-align: right;\">\n",
       "      <th></th>\n",
       "      <th>C/A</th>\n",
       "      <th>UNIT</th>\n",
       "      <th>SCP</th>\n",
       "      <th>Date</th>\n",
       "      <th>Time</th>\n",
       "      <th>Desc</th>\n",
       "      <th>Entries</th>\n",
       "      <th>Exits</th>\n",
       "      <th>Station</th>\n",
       "    </tr>\n",
       "  </thead>\n",
       "  <tbody>\n",
       "    <tr>\n",
       "      <th>0</th>\n",
       "      <td>A002</td>\n",
       "      <td>R051</td>\n",
       "      <td>02-00-00</td>\n",
       "      <td>08-03-13</td>\n",
       "      <td>00:00:00</td>\n",
       "      <td>REGULAR</td>\n",
       "      <td>4219132.0</td>\n",
       "      <td>1446203.0</td>\n",
       "      <td>59 ST</td>\n",
       "    </tr>\n",
       "    <tr>\n",
       "      <th>1</th>\n",
       "      <td>A002</td>\n",
       "      <td>R051</td>\n",
       "      <td>02-00-00</td>\n",
       "      <td>08-04-13</td>\n",
       "      <td>08:00:00</td>\n",
       "      <td>REGULAR</td>\n",
       "      <td>4219909.0</td>\n",
       "      <td>1446480.0</td>\n",
       "      <td>59 ST</td>\n",
       "    </tr>\n",
       "    <tr>\n",
       "      <th>2</th>\n",
       "      <td>A002</td>\n",
       "      <td>R051</td>\n",
       "      <td>02-00-00</td>\n",
       "      <td>08-05-13</td>\n",
       "      <td>16:00:00</td>\n",
       "      <td>REGULAR</td>\n",
       "      <td>4221154.0</td>\n",
       "      <td>1446980.0</td>\n",
       "      <td>59 ST</td>\n",
       "    </tr>\n",
       "    <tr>\n",
       "      <th>3</th>\n",
       "      <td>A002</td>\n",
       "      <td>R051</td>\n",
       "      <td>02-00-00</td>\n",
       "      <td>08-07-13</td>\n",
       "      <td>00:00:00</td>\n",
       "      <td>REGULAR</td>\n",
       "      <td>4223778.0</td>\n",
       "      <td>1447475.0</td>\n",
       "      <td>59 ST</td>\n",
       "    </tr>\n",
       "    <tr>\n",
       "      <th>4</th>\n",
       "      <td>A002</td>\n",
       "      <td>R051</td>\n",
       "      <td>02-00-00</td>\n",
       "      <td>08-08-13</td>\n",
       "      <td>08:00:00</td>\n",
       "      <td>REGULAR</td>\n",
       "      <td>4225271.0</td>\n",
       "      <td>1448055.0</td>\n",
       "      <td>59 ST</td>\n",
       "    </tr>\n",
       "  </tbody>\n",
       "</table>\n",
       "</div>"
      ],
      "text/plain": [
       "    C/A  UNIT       SCP      Date      Time     Desc    Entries      Exits  \\\n",
       "0  A002  R051  02-00-00  08-03-13  00:00:00  REGULAR  4219132.0  1446203.0   \n",
       "1  A002  R051  02-00-00  08-04-13  08:00:00  REGULAR  4219909.0  1446480.0   \n",
       "2  A002  R051  02-00-00  08-05-13  16:00:00  REGULAR  4221154.0  1446980.0   \n",
       "3  A002  R051  02-00-00  08-07-13  00:00:00  REGULAR  4223778.0  1447475.0   \n",
       "4  A002  R051  02-00-00  08-08-13  08:00:00  REGULAR  4225271.0  1448055.0   \n",
       "\n",
       "  Station  \n",
       "0   59 ST  \n",
       "1   59 ST  \n",
       "2   59 ST  \n",
       "3   59 ST  \n",
       "4   59 ST  "
      ]
     },
     "execution_count": 207,
     "metadata": {},
     "output_type": "execute_result"
    }
   ],
   "source": [
    "# definition of \"station\"\n",
    "\n",
    "# data source: Remote-Booth-Station.xls\n",
    "remote_station_xls = pd.ExcelFile(work_path + \"/\" + \"Remote-Booth-Station.xls\")\n",
    "df_remote_station  = remote_station_xls.parse( \"Remote-Booth-Station (3)\" )\n",
    "\n",
    "# we need to link the following key value in main data set:\n",
    "#     UNIT = Remote Unit for a station (R051)\n",
    "# to Station in this data source\n",
    "\n",
    "# note that \"Remote\" means the entrance of a station. Conceptually, a station has many entrances and\n",
    "# many line of trains. Therefor, we assume station and remote is \"one-to-many\" mapping, which can be\n",
    "# verified by the data. But occationally, a remote can be mapped to more than one stations. We consider\n",
    "# them as data oddities at this moment for simplification purpose.\n",
    "\n",
    "# remote => station mapping\n",
    "dic_remote_station = {}\n",
    "for idx, row in df_remote_station.iterrows():\n",
    "    remote  = row[\"Remote\"]\n",
    "    station = row[\"Station\"]\n",
    "    if remote not in dic_remote_station.keys():\n",
    "        dic_remote_station[remote] = station\n",
    "    \n",
    "\n",
    "#df_remote_station.head()\n",
    "#dic_remote_station\n",
    "df_norm[\"Station\"] = df_norm.apply( lambda x: dic_remote_station.get(x[\"UNIT\"], None), axis=1 )\n",
    "\n",
    "# check the None value of Station\n",
    "#df_norm[ pd.isnull(df_norm[\"Station\"]) ].shape\n",
    "\n",
    "df_norm.head()"
   ]
  },
  {
   "cell_type": "code",
   "execution_count": 208,
   "metadata": {
    "collapsed": false
   },
   "outputs": [
    {
     "data": {
      "text/plain": [
       "107378"
      ]
     },
     "execution_count": 208,
     "metadata": {},
     "output_type": "execute_result"
    }
   ],
   "source": [
    "# many None values in Date and Time column\n",
    "sum(pd.isnull(df_norm[\"Date\"]) | pd.isnull(df_norm[\"Time\"]))"
   ]
  },
  {
   "cell_type": "code",
   "execution_count": 209,
   "metadata": {
    "collapsed": false
   },
   "outputs": [
    {
     "data": {
      "text/plain": [
       "(1271622, 9)"
      ]
     },
     "execution_count": 209,
     "metadata": {},
     "output_type": "execute_result"
    }
   ],
   "source": [
    "df_norm = df_norm[ pd.notnull(df_norm[\"Date\"]) & pd.notnull(df_norm[\"Time\"]) ]\n",
    "df_norm.shape"
   ]
  },
  {
   "cell_type": "code",
   "execution_count": 210,
   "metadata": {
    "collapsed": false
   },
   "outputs": [
    {
     "data": {
      "text/plain": [
       "(1271622, 10)"
      ]
     },
     "execution_count": 210,
     "metadata": {},
     "output_type": "execute_result"
    }
   ],
   "source": [
    "# datetime convertion\n",
    "\n",
    "def convert_date_time( dt_str, tm_str ):\n",
    "    \"\"\" convert datetime str to datetime obj \"\"\"\n",
    "    \n",
    "    t_str = dt_str + \" \" + tm_str\n",
    "    try:\n",
    "        return datetime.strptime(t_str, '%m-%d-%y %H:%M:%S')\n",
    "    except ValueError:\n",
    "        return None\n",
    "\n",
    "df_norm[\"DateTime\"] = df_norm.apply( lambda x: convert_date_time(str(x['Date']), str(x['Time'])), axis=1 )\n",
    "\n",
    "# drop None DateTime entries\n",
    "df_norm = df_norm[ pd.notnull(df_norm[\"DateTime\"]) ]\n",
    "df_norm.shape"
   ]
  },
  {
   "cell_type": "code",
   "execution_count": 211,
   "metadata": {
    "collapsed": false
   },
   "outputs": [
    {
     "data": {
      "text/html": [
       "<div>\n",
       "<table border=\"1\" class=\"dataframe\">\n",
       "  <thead>\n",
       "    <tr style=\"text-align: right;\">\n",
       "      <th></th>\n",
       "      <th>C/A</th>\n",
       "      <th>UNIT</th>\n",
       "      <th>SCP</th>\n",
       "      <th>Date</th>\n",
       "      <th>Time</th>\n",
       "      <th>Desc</th>\n",
       "      <th>Entries</th>\n",
       "      <th>Exits</th>\n",
       "      <th>Station</th>\n",
       "      <th>DateTime</th>\n",
       "    </tr>\n",
       "  </thead>\n",
       "  <tbody>\n",
       "    <tr>\n",
       "      <th>0</th>\n",
       "      <td>A002</td>\n",
       "      <td>R051</td>\n",
       "      <td>02-00-00</td>\n",
       "      <td>08-03-13</td>\n",
       "      <td>00:00:00</td>\n",
       "      <td>REGULAR</td>\n",
       "      <td>4219132.0</td>\n",
       "      <td>1446203.0</td>\n",
       "      <td>59 ST</td>\n",
       "      <td>2013-08-03 00:00:00</td>\n",
       "    </tr>\n",
       "    <tr>\n",
       "      <th>1</th>\n",
       "      <td>A002</td>\n",
       "      <td>R051</td>\n",
       "      <td>02-00-00</td>\n",
       "      <td>08-04-13</td>\n",
       "      <td>08:00:00</td>\n",
       "      <td>REGULAR</td>\n",
       "      <td>4219909.0</td>\n",
       "      <td>1446480.0</td>\n",
       "      <td>59 ST</td>\n",
       "      <td>2013-08-04 08:00:00</td>\n",
       "    </tr>\n",
       "    <tr>\n",
       "      <th>2</th>\n",
       "      <td>A002</td>\n",
       "      <td>R051</td>\n",
       "      <td>02-00-00</td>\n",
       "      <td>08-05-13</td>\n",
       "      <td>16:00:00</td>\n",
       "      <td>REGULAR</td>\n",
       "      <td>4221154.0</td>\n",
       "      <td>1446980.0</td>\n",
       "      <td>59 ST</td>\n",
       "      <td>2013-08-05 16:00:00</td>\n",
       "    </tr>\n",
       "    <tr>\n",
       "      <th>3</th>\n",
       "      <td>A002</td>\n",
       "      <td>R051</td>\n",
       "      <td>02-00-00</td>\n",
       "      <td>08-07-13</td>\n",
       "      <td>00:00:00</td>\n",
       "      <td>REGULAR</td>\n",
       "      <td>4223778.0</td>\n",
       "      <td>1447475.0</td>\n",
       "      <td>59 ST</td>\n",
       "      <td>2013-08-07 00:00:00</td>\n",
       "    </tr>\n",
       "    <tr>\n",
       "      <th>4</th>\n",
       "      <td>A002</td>\n",
       "      <td>R051</td>\n",
       "      <td>02-00-00</td>\n",
       "      <td>08-08-13</td>\n",
       "      <td>08:00:00</td>\n",
       "      <td>REGULAR</td>\n",
       "      <td>4225271.0</td>\n",
       "      <td>1448055.0</td>\n",
       "      <td>59 ST</td>\n",
       "      <td>2013-08-08 08:00:00</td>\n",
       "    </tr>\n",
       "  </tbody>\n",
       "</table>\n",
       "</div>"
      ],
      "text/plain": [
       "    C/A  UNIT       SCP      Date      Time     Desc    Entries      Exits  \\\n",
       "0  A002  R051  02-00-00  08-03-13  00:00:00  REGULAR  4219132.0  1446203.0   \n",
       "1  A002  R051  02-00-00  08-04-13  08:00:00  REGULAR  4219909.0  1446480.0   \n",
       "2  A002  R051  02-00-00  08-05-13  16:00:00  REGULAR  4221154.0  1446980.0   \n",
       "3  A002  R051  02-00-00  08-07-13  00:00:00  REGULAR  4223778.0  1447475.0   \n",
       "4  A002  R051  02-00-00  08-08-13  08:00:00  REGULAR  4225271.0  1448055.0   \n",
       "\n",
       "  Station            DateTime  \n",
       "0   59 ST 2013-08-03 00:00:00  \n",
       "1   59 ST 2013-08-04 08:00:00  \n",
       "2   59 ST 2013-08-05 16:00:00  \n",
       "3   59 ST 2013-08-07 00:00:00  \n",
       "4   59 ST 2013-08-08 08:00:00  "
      ]
     },
     "execution_count": 211,
     "metadata": {},
     "output_type": "execute_result"
    }
   ],
   "source": [
    "df_norm.head()"
   ]
  },
  {
   "cell_type": "code",
   "execution_count": 11,
   "metadata": {
    "collapsed": true
   },
   "outputs": [],
   "source": [
    "# hourly / daily traffic calculation for each device\n",
    "# not sure about 'Desc' column, here we calculate the trafffic number for all types of 'Desc\"."
   ]
  },
  {
   "cell_type": "code",
   "execution_count": 12,
   "metadata": {
    "collapsed": false
   },
   "outputs": [
    {
     "data": {
      "text/plain": [
       "(1289679, 15)"
      ]
     },
     "execution_count": 12,
     "metadata": {},
     "output_type": "execute_result"
    }
   ],
   "source": [
    "# hourly calcualtion (at device level)\n",
    "\n",
    "# groupped at device level\n",
    "df_norm_grp = df_norm.groupby( [\"Station\",\"C/A\",\"UNIT\",\"SCP\"] )\n",
    "#len(df_norm_grp)\n",
    "\n",
    "def cal_hourly_traffic( df ):\n",
    "    \"\"\" calculate hourly traffic \"\"\"\n",
    "    t_df = df.sort_values( by=\"DateTime\" )\n",
    "    \n",
    "    t_df.loc[:, \"EntriesLag\"]    = t_df[\"Entries\"].shift(periods=1)\n",
    "    t_df.loc[:, \"ExitsLag\"]      = t_df[\"Exits\"].shift(periods=1)\n",
    "\n",
    "    t_df.loc[:, \"EntryTraffic\"]  = t_df[\"Entries\"] - t_df[\"EntriesLag\"]\n",
    "    t_df.loc[:, \"ExitTraffic\"]   = t_df[\"Exits\"] - t_df[\"ExitsLag\"]\n",
    "\n",
    "    t_df.loc[:, \"HourlyTraffic\"] = t_df[\"EntryTraffic\"] + t_df[\"ExitTraffic\"]\n",
    "    \n",
    "    return t_df.copy()\n",
    "\n",
    "\n",
    "df_hourly_list = []\n",
    "for name, group in df_norm_grp:\n",
    "    df = cal_hourly_traffic( df_norm_grp.get_group(name) )\n",
    "    df_hourly_list.append(df)    \n",
    "df_hourly = pd.concat(df_hourly_list)\n",
    "df_hourly.shape"
   ]
  },
  {
   "cell_type": "code",
   "execution_count": 13,
   "metadata": {
    "collapsed": false
   },
   "outputs": [
    {
     "data": {
      "text/html": [
       "<div>\n",
       "<table border=\"1\" class=\"dataframe\">\n",
       "  <thead>\n",
       "    <tr style=\"text-align: right;\">\n",
       "      <th></th>\n",
       "      <th>C/A</th>\n",
       "      <th>UNIT</th>\n",
       "      <th>SCP</th>\n",
       "      <th>Date</th>\n",
       "      <th>Time</th>\n",
       "      <th>Desc</th>\n",
       "      <th>Entries</th>\n",
       "      <th>Exits</th>\n",
       "      <th>Station</th>\n",
       "      <th>DateTime</th>\n",
       "      <th>EntriesLag</th>\n",
       "      <th>ExitsLag</th>\n",
       "      <th>EntryTraffic</th>\n",
       "      <th>ExitTraffic</th>\n",
       "      <th>HourlyTraffic</th>\n",
       "    </tr>\n",
       "  </thead>\n",
       "  <tbody>\n",
       "    <tr>\n",
       "      <th>4336</th>\n",
       "      <td>H007</td>\n",
       "      <td>R248</td>\n",
       "      <td>00-00-00</td>\n",
       "      <td>12-01-12</td>\n",
       "      <td>07:00:00</td>\n",
       "      <td>REGULAR</td>\n",
       "      <td>6220870.0</td>\n",
       "      <td>6941662.0</td>\n",
       "      <td>1 AVE</td>\n",
       "      <td>2012-12-01 07:00:00</td>\n",
       "      <td>6220805.0</td>\n",
       "      <td>6941459.0</td>\n",
       "      <td>65.0</td>\n",
       "      <td>203.0</td>\n",
       "      <td>268.0</td>\n",
       "    </tr>\n",
       "    <tr>\n",
       "      <th>4336</th>\n",
       "      <td>H007</td>\n",
       "      <td>R248</td>\n",
       "      <td>00-00-00</td>\n",
       "      <td>12-01-12</td>\n",
       "      <td>11:00:00</td>\n",
       "      <td>REGULAR</td>\n",
       "      <td>6221301.0</td>\n",
       "      <td>6942332.0</td>\n",
       "      <td>1 AVE</td>\n",
       "      <td>2012-12-01 11:00:00</td>\n",
       "      <td>6220870.0</td>\n",
       "      <td>6941662.0</td>\n",
       "      <td>431.0</td>\n",
       "      <td>670.0</td>\n",
       "      <td>1101.0</td>\n",
       "    </tr>\n",
       "    <tr>\n",
       "      <th>4336</th>\n",
       "      <td>H007</td>\n",
       "      <td>R248</td>\n",
       "      <td>00-00-00</td>\n",
       "      <td>12-01-12</td>\n",
       "      <td>15:00:00</td>\n",
       "      <td>REGULAR</td>\n",
       "      <td>6222182.0</td>\n",
       "      <td>6943204.0</td>\n",
       "      <td>1 AVE</td>\n",
       "      <td>2012-12-01 15:00:00</td>\n",
       "      <td>6221301.0</td>\n",
       "      <td>6942332.0</td>\n",
       "      <td>881.0</td>\n",
       "      <td>872.0</td>\n",
       "      <td>1753.0</td>\n",
       "    </tr>\n",
       "    <tr>\n",
       "      <th>4336</th>\n",
       "      <td>H007</td>\n",
       "      <td>R248</td>\n",
       "      <td>00-00-00</td>\n",
       "      <td>12-01-12</td>\n",
       "      <td>19:00:00</td>\n",
       "      <td>REGULAR</td>\n",
       "      <td>6223045.0</td>\n",
       "      <td>6944217.0</td>\n",
       "      <td>1 AVE</td>\n",
       "      <td>2012-12-01 19:00:00</td>\n",
       "      <td>6222182.0</td>\n",
       "      <td>6943204.0</td>\n",
       "      <td>863.0</td>\n",
       "      <td>1013.0</td>\n",
       "      <td>1876.0</td>\n",
       "    </tr>\n",
       "    <tr>\n",
       "      <th>4336</th>\n",
       "      <td>H007</td>\n",
       "      <td>R248</td>\n",
       "      <td>00-00-00</td>\n",
       "      <td>12-01-12</td>\n",
       "      <td>23:00:00</td>\n",
       "      <td>REGULAR</td>\n",
       "      <td>6223615.0</td>\n",
       "      <td>6945125.0</td>\n",
       "      <td>1 AVE</td>\n",
       "      <td>2012-12-01 23:00:00</td>\n",
       "      <td>6223045.0</td>\n",
       "      <td>6944217.0</td>\n",
       "      <td>570.0</td>\n",
       "      <td>908.0</td>\n",
       "      <td>1478.0</td>\n",
       "    </tr>\n",
       "  </tbody>\n",
       "</table>\n",
       "</div>"
      ],
      "text/plain": [
       "       C/A  UNIT       SCP      Date      Time     Desc    Entries      Exits  \\\n",
       "4336  H007  R248  00-00-00  12-01-12  07:00:00  REGULAR  6220870.0  6941662.0   \n",
       "4336  H007  R248  00-00-00  12-01-12  11:00:00  REGULAR  6221301.0  6942332.0   \n",
       "4336  H007  R248  00-00-00  12-01-12  15:00:00  REGULAR  6222182.0  6943204.0   \n",
       "4336  H007  R248  00-00-00  12-01-12  19:00:00  REGULAR  6223045.0  6944217.0   \n",
       "4336  H007  R248  00-00-00  12-01-12  23:00:00  REGULAR  6223615.0  6945125.0   \n",
       "\n",
       "     Station            DateTime  EntriesLag   ExitsLag  EntryTraffic  \\\n",
       "4336   1 AVE 2012-12-01 07:00:00   6220805.0  6941459.0          65.0   \n",
       "4336   1 AVE 2012-12-01 11:00:00   6220870.0  6941662.0         431.0   \n",
       "4336   1 AVE 2012-12-01 15:00:00   6221301.0  6942332.0         881.0   \n",
       "4336   1 AVE 2012-12-01 19:00:00   6222182.0  6943204.0         863.0   \n",
       "4336   1 AVE 2012-12-01 23:00:00   6223045.0  6944217.0         570.0   \n",
       "\n",
       "      ExitTraffic  HourlyTraffic  \n",
       "4336        203.0          268.0  \n",
       "4336        670.0         1101.0  \n",
       "4336        872.0         1753.0  \n",
       "4336       1013.0         1876.0  \n",
       "4336        908.0         1478.0  "
      ]
     },
     "execution_count": 13,
     "metadata": {},
     "output_type": "execute_result"
    }
   ],
   "source": [
    "# anormilies and outliers cleaning\n",
    "\n",
    "# 1. check monotonic trend of accumulated value, i.e., negative delta\n",
    "#    we did find negative EntryTraffic and ExitTraffic. It means Entries and Exits do NOT \n",
    "#    increase monotonically over time. There are three ways to handle this situation\n",
    "#       a. replace with zeros    -  this is misleading because it can be interpretted as device shutdown.\n",
    "#       b. get absolute value    -  this may work, but the impact is unknown. it may mess up the stats later\n",
    "#       c. drop negative entries - this solution is adopted here for simplicity purpose\n",
    "\n",
    "# drop negative / none entries\n",
    "df_hourly = df_hourly[ (df_hourly[\"EntryTraffic\"] >= 0)  &  (df_hourly[\"ExitTraffic\"] >= 0)  ]\n",
    "df_hourly.shape\n",
    "\n",
    "df_hourly.to_pickle('df_hourly.pickle')\n",
    "df_hourly.head()"
   ]
  },
  {
   "cell_type": "code",
   "execution_count": 248,
   "metadata": {
    "collapsed": false
   },
   "outputs": [
    {
     "data": {
      "text/html": [
       "<div>\n",
       "<table border=\"1\" class=\"dataframe\">\n",
       "  <thead>\n",
       "    <tr style=\"text-align: right;\">\n",
       "      <th></th>\n",
       "      <th>Station</th>\n",
       "      <th>DeviceID</th>\n",
       "      <th>Date</th>\n",
       "      <th>DailyExit</th>\n",
       "      <th>DailyEntry</th>\n",
       "      <th>DailyTraffic</th>\n",
       "      <th>DailyMean</th>\n",
       "      <th>DailyStd</th>\n",
       "    </tr>\n",
       "  </thead>\n",
       "  <tbody>\n",
       "    <tr>\n",
       "      <th>1</th>\n",
       "      <td>1 AVE</td>\n",
       "      <td>H007-R248-00-00-00</td>\n",
       "      <td>05-26-13</td>\n",
       "      <td>73.0</td>\n",
       "      <td>0.0</td>\n",
       "      <td>73.0</td>\n",
       "      <td>36830.357143</td>\n",
       "      <td>190950.444686</td>\n",
       "    </tr>\n",
       "    <tr>\n",
       "      <th>2</th>\n",
       "      <td>1 AVE</td>\n",
       "      <td>H007-R248-00-00-00</td>\n",
       "      <td>05-27-13</td>\n",
       "      <td>26.0</td>\n",
       "      <td>0.0</td>\n",
       "      <td>26.0</td>\n",
       "      <td>36830.357143</td>\n",
       "      <td>190950.444686</td>\n",
       "    </tr>\n",
       "    <tr>\n",
       "      <th>3</th>\n",
       "      <td>1 AVE</td>\n",
       "      <td>H007-R248-00-00-00</td>\n",
       "      <td>05-28-13</td>\n",
       "      <td>3126.0</td>\n",
       "      <td>3423.0</td>\n",
       "      <td>6549.0</td>\n",
       "      <td>36830.357143</td>\n",
       "      <td>190950.444686</td>\n",
       "    </tr>\n",
       "    <tr>\n",
       "      <th>4</th>\n",
       "      <td>1 AVE</td>\n",
       "      <td>H007-R248-00-00-00</td>\n",
       "      <td>05-29-13</td>\n",
       "      <td>4362.0</td>\n",
       "      <td>3954.0</td>\n",
       "      <td>8316.0</td>\n",
       "      <td>36830.357143</td>\n",
       "      <td>190950.444686</td>\n",
       "    </tr>\n",
       "    <tr>\n",
       "      <th>5</th>\n",
       "      <td>1 AVE</td>\n",
       "      <td>H007-R248-00-00-00</td>\n",
       "      <td>05-30-13</td>\n",
       "      <td>4594.0</td>\n",
       "      <td>3744.0</td>\n",
       "      <td>8338.0</td>\n",
       "      <td>36830.357143</td>\n",
       "      <td>190950.444686</td>\n",
       "    </tr>\n",
       "  </tbody>\n",
       "</table>\n",
       "</div>"
      ],
      "text/plain": [
       "  Station            DeviceID      Date  DailyExit  DailyEntry  DailyTraffic  \\\n",
       "1   1 AVE  H007-R248-00-00-00  05-26-13       73.0         0.0          73.0   \n",
       "2   1 AVE  H007-R248-00-00-00  05-27-13       26.0         0.0          26.0   \n",
       "3   1 AVE  H007-R248-00-00-00  05-28-13     3126.0      3423.0        6549.0   \n",
       "4   1 AVE  H007-R248-00-00-00  05-29-13     4362.0      3954.0        8316.0   \n",
       "5   1 AVE  H007-R248-00-00-00  05-30-13     4594.0      3744.0        8338.0   \n",
       "\n",
       "      DailyMean       DailyStd  \n",
       "1  36830.357143  190950.444686  \n",
       "2  36830.357143  190950.444686  \n",
       "3  36830.357143  190950.444686  \n",
       "4  36830.357143  190950.444686  \n",
       "5  36830.357143  190950.444686  "
      ]
     },
     "execution_count": 248,
     "metadata": {},
     "output_type": "execute_result"
    }
   ],
   "source": [
    "# 2. check outliers\n",
    "# the definition of \"outlier\" is 6 standard deviations away from this mean.\n",
    "\n",
    "# daily traffic calculation (at device level)\n",
    "\n",
    "# create a device ID for further analysis\n",
    "df_hourly[\"DeviceID\"] = df_hourly[\"C/A\"] + \"-\" + df_hourly[\"UNIT\"] + \"-\" + df_hourly[\"SCP\"]\n",
    "\n",
    "# groupped at device/daily level\n",
    "df_daily_grp = df_hourly.groupby( [\"Station\", \"DeviceID\", \"Date\"] )\n",
    "\n",
    "# calculate daily traffic at device level\n",
    "#df_daily = df_daily_grp[\"HourlyTraffic\"].agg({'DailyTraffic': np.sum)\n",
    "#df_daily = df_daily.reset_index()\n",
    "                                              \n",
    "df_daily = df_daily_grp.agg( {\"EntryTraffic\" : 'sum',\n",
    "                              \"ExitTraffic\"  : 'sum',\n",
    "                              \"HourlyTraffic\": 'sum'}  )\n",
    "\n",
    "df_daily = df_daily.reset_index()\n",
    "df_daily.columns = [\"Station\", \"DeviceID\", \"Date\", \"DailyExit\", \"DailyEntry\", \"DailyTraffic\"]\n",
    "\n",
    "# get daily stats\n",
    "daily_stats = df_daily.groupby([\"Station\", \"DeviceID\"])[\"DailyTraffic\"].agg( {\"DailyMean\": np.mean, \n",
    "                                                                              \"DailyStd\" : np.std} )\n",
    "daily_stats = daily_stats.reset_index()\n",
    "\n",
    "# merge\n",
    "df_daily = pd.merge(df_daily, daily_stats, on=[\"Station\",\"DeviceID\"], how='inner');\n",
    "\n",
    "# drop outliers\n",
    "df_daily = df_daily[ df_daily[\"DailyTraffic\"] <= (df_daily[\"DailyMean\"] + 6.0 * df_daily[\"DailyStd\"]) ]\n",
    "#sum( df_daily[\"DailyTraffic\"] < 0 )\n",
    "df_daily.head()"
   ]
  },
  {
   "cell_type": "markdown",
   "metadata": {},
   "source": [
    "# Step 3 - data analysis:\n",
    "-                 Which station has the most number of units?\n",
    "-                 What is the total number of entries & exits across the subway system for August 1, 2013?\n",
    "-                 Let’s define the busy-ness as sum of entry & exit count. What station was the busiest on August 1, 2013? What turnstile was the busiest on that date?\n",
    "-                 What stations have seen the most usage growth/decline in 2013?\n",
    "-                 What dates are the least busy? Could you identify days on which stations were not operating at full capacity or closed entirely?"
   ]
  },
  {
   "cell_type": "code",
   "execution_count": 249,
   "metadata": {
    "collapsed": false
   },
   "outputs": [
    {
     "data": {
      "text/html": [
       "<div>\n",
       "<table border=\"1\" class=\"dataframe\">\n",
       "  <thead>\n",
       "    <tr style=\"text-align: right;\">\n",
       "      <th></th>\n",
       "      <th>Remote</th>\n",
       "    </tr>\n",
       "    <tr>\n",
       "      <th>Station</th>\n",
       "      <th></th>\n",
       "    </tr>\n",
       "  </thead>\n",
       "  <tbody>\n",
       "    <tr>\n",
       "      <th>34 ST-PENN STA</th>\n",
       "      <td>14</td>\n",
       "    </tr>\n",
       "    <tr>\n",
       "      <th>FULTON ST</th>\n",
       "      <td>12</td>\n",
       "    </tr>\n",
       "    <tr>\n",
       "      <th>86 ST</th>\n",
       "      <td>10</td>\n",
       "    </tr>\n",
       "    <tr>\n",
       "      <th>23 ST</th>\n",
       "      <td>9</td>\n",
       "    </tr>\n",
       "    <tr>\n",
       "      <th>42 ST-TIMES SQ</th>\n",
       "      <td>9</td>\n",
       "    </tr>\n",
       "  </tbody>\n",
       "</table>\n",
       "</div>"
      ],
      "text/plain": [
       "                Remote\n",
       "Station               \n",
       "34 ST-PENN STA      14\n",
       "FULTON ST           12\n",
       "86 ST               10\n",
       "23 ST                9\n",
       "42 ST-TIMES SQ       9"
      ]
     },
     "execution_count": 249,
     "metadata": {},
     "output_type": "execute_result"
    }
   ],
   "source": [
    "# which station has the most number of units?\n",
    "# I assume the \"unit\" means \"remote\" based on MTA data definition\n",
    "\n",
    "# Anwser: 34 ST-PENN STA \n",
    "# as supported by the following:\n",
    "df_remote_station = df_remote_station[[\"Remote\", \"Station\"]]\n",
    "df_remote_station.groupby(\"Station\").count().sort_values(\"Remote\", ascending=False).head()"
   ]
  },
  {
   "cell_type": "code",
   "execution_count": 255,
   "metadata": {
    "collapsed": false
   },
   "outputs": [
    {
     "name": "stdout",
     "output_type": "stream",
     "text": [
      "2817437 2343014\n"
     ]
    }
   ],
   "source": [
    "# What is the total number of entries & exits across the subway system for August 1, 2013?\n",
    "#\n",
    "# Answer: Total entries: 6845836, Total exits: 6482891\n",
    "# as supported by the following:\n",
    "date_str = \"05-26-13\"\n",
    "tot_entry = int( sum( df_daily[ df_daily[\"Date\"] == date_str ][\"DailyEntry\"] ) )\n",
    "tot_exit  = int( sum( df_daily[ df_daily[\"Date\"] == date_str ][\"DailyExit\"] ) )\n",
    "print tot_entry, tot_exit"
   ]
  },
  {
   "cell_type": "code",
   "execution_count": 256,
   "metadata": {
    "collapsed": false
   },
   "outputs": [
    {
     "data": {
      "text/html": [
       "<div>\n",
       "<table border=\"1\" class=\"dataframe\">\n",
       "  <thead>\n",
       "    <tr style=\"text-align: right;\">\n",
       "      <th></th>\n",
       "      <th>DailyTraffic</th>\n",
       "    </tr>\n",
       "    <tr>\n",
       "      <th>Station</th>\n",
       "      <th></th>\n",
       "    </tr>\n",
       "  </thead>\n",
       "  <tbody>\n",
       "    <tr>\n",
       "      <th>34 ST-PENN STA</th>\n",
       "      <td>143185.0</td>\n",
       "    </tr>\n",
       "    <tr>\n",
       "      <th>14 ST-UNION SQ</th>\n",
       "      <td>128785.0</td>\n",
       "    </tr>\n",
       "    <tr>\n",
       "      <th>42 ST-TIMES SQ</th>\n",
       "      <td>126720.0</td>\n",
       "    </tr>\n",
       "    <tr>\n",
       "      <th>34 ST-HERALD SQ</th>\n",
       "      <td>115791.0</td>\n",
       "    </tr>\n",
       "    <tr>\n",
       "      <th>42 ST-PA BUS TE</th>\n",
       "      <td>112297.0</td>\n",
       "    </tr>\n",
       "  </tbody>\n",
       "</table>\n",
       "</div>"
      ],
      "text/plain": [
       "                 DailyTraffic\n",
       "Station                      \n",
       "34 ST-PENN STA       143185.0\n",
       "14 ST-UNION SQ       128785.0\n",
       "42 ST-TIMES SQ       126720.0\n",
       "34 ST-HERALD SQ      115791.0\n",
       "42 ST-PA BUS TE      112297.0"
      ]
     },
     "execution_count": 256,
     "metadata": {},
     "output_type": "execute_result"
    }
   ],
   "source": [
    "# Let’s define the busy-ness as sum of entry & exit count. \n",
    "# What station was the busiest on August 1, 2013? What turnstile was the busiest on that date?\n",
    "#\n",
    "# Busines Station:    34 ST-PENN STA\n",
    "# Busines Turnstile:  R171-R192-01-00-00 (C/A R171, UNIT R192, SCP 01-00-00)\n",
    "\n",
    "df_test = df_daily[ df_daily[\"Date\"] == date_str ]\n",
    "df_test.groupby(\"Station\").agg( {\"DailyTraffic\": 'sum'} ).sort_values(by=\"DailyTraffic\",ascending=False).head()"
   ]
  },
  {
   "cell_type": "code",
   "execution_count": 257,
   "metadata": {
    "collapsed": false,
    "scrolled": true
   },
   "outputs": [
    {
     "data": {
      "text/html": [
       "<div>\n",
       "<table border=\"1\" class=\"dataframe\">\n",
       "  <thead>\n",
       "    <tr style=\"text-align: right;\">\n",
       "      <th></th>\n",
       "      <th>Station</th>\n",
       "      <th>DeviceID</th>\n",
       "      <th>Date</th>\n",
       "      <th>DailyExit</th>\n",
       "      <th>DailyEntry</th>\n",
       "      <th>DailyTraffic</th>\n",
       "      <th>DailyMean</th>\n",
       "      <th>DailyStd</th>\n",
       "    </tr>\n",
       "  </thead>\n",
       "  <tbody>\n",
       "    <tr>\n",
       "      <th>67693</th>\n",
       "      <td>8 AVE</td>\n",
       "      <td>H001-R175-00-00-00</td>\n",
       "      <td>05-26-13</td>\n",
       "      <td>4840.0</td>\n",
       "      <td>2914.0</td>\n",
       "      <td>7754.0</td>\n",
       "      <td>35489.357143</td>\n",
       "      <td>177728.598835</td>\n",
       "    </tr>\n",
       "    <tr>\n",
       "      <th>10291</th>\n",
       "      <td>14 ST-UNION SQ</td>\n",
       "      <td>R221-R170-01-00-00</td>\n",
       "      <td>05-26-13</td>\n",
       "      <td>3355.0</td>\n",
       "      <td>4338.0</td>\n",
       "      <td>7693.0</td>\n",
       "      <td>44445.142857</td>\n",
       "      <td>223563.080859</td>\n",
       "    </tr>\n",
       "    <tr>\n",
       "      <th>46154</th>\n",
       "      <td>42 ST-TIMES SQ</td>\n",
       "      <td>R151-R033-00-00-04</td>\n",
       "      <td>05-26-13</td>\n",
       "      <td>4589.0</td>\n",
       "      <td>2886.0</td>\n",
       "      <td>7475.0</td>\n",
       "      <td>32616.666667</td>\n",
       "      <td>164460.129397</td>\n",
       "    </tr>\n",
       "    <tr>\n",
       "      <th>46112</th>\n",
       "      <td>42 ST-TIMES SQ</td>\n",
       "      <td>R151-R033-00-00-03</td>\n",
       "      <td>05-26-13</td>\n",
       "      <td>4327.0</td>\n",
       "      <td>3138.0</td>\n",
       "      <td>7465.0</td>\n",
       "      <td>33027.238095</td>\n",
       "      <td>166070.034480</td>\n",
       "    </tr>\n",
       "    <tr>\n",
       "      <th>178799</th>\n",
       "      <td>W 4 ST-WASH SQ</td>\n",
       "      <td>N083-R138-01-00-00</td>\n",
       "      <td>05-26-13</td>\n",
       "      <td>5455.0</td>\n",
       "      <td>1644.0</td>\n",
       "      <td>7099.0</td>\n",
       "      <td>43633.357143</td>\n",
       "      <td>220390.436575</td>\n",
       "    </tr>\n",
       "  </tbody>\n",
       "</table>\n",
       "</div>"
      ],
      "text/plain": [
       "               Station            DeviceID      Date  DailyExit  DailyEntry  \\\n",
       "67693            8 AVE  H001-R175-00-00-00  05-26-13     4840.0      2914.0   \n",
       "10291   14 ST-UNION SQ  R221-R170-01-00-00  05-26-13     3355.0      4338.0   \n",
       "46154   42 ST-TIMES SQ  R151-R033-00-00-04  05-26-13     4589.0      2886.0   \n",
       "46112   42 ST-TIMES SQ  R151-R033-00-00-03  05-26-13     4327.0      3138.0   \n",
       "178799  W 4 ST-WASH SQ  N083-R138-01-00-00  05-26-13     5455.0      1644.0   \n",
       "\n",
       "        DailyTraffic     DailyMean       DailyStd  \n",
       "67693         7754.0  35489.357143  177728.598835  \n",
       "10291         7693.0  44445.142857  223563.080859  \n",
       "46154         7475.0  32616.666667  164460.129397  \n",
       "46112         7465.0  33027.238095  166070.034480  \n",
       "178799        7099.0  43633.357143  220390.436575  "
      ]
     },
     "execution_count": 257,
     "metadata": {},
     "output_type": "execute_result"
    }
   ],
   "source": [
    "df_test.sort_values(by=\"DailyTraffic\", ascending=False).head()"
   ]
  },
  {
   "cell_type": "code",
   "execution_count": 19,
   "metadata": {
    "collapsed": false
   },
   "outputs": [],
   "source": [
    "# What stations have seen the most usage growth/decline in 2013?\n",
    "\n",
    "# add a Year column to identify yearly usage changes\n",
    "df_daily[\"Year\"] = df_daily.apply(lambda x: x[\"Date\"][-2:], axis=1)\n",
    "\n",
    "df_test = df_daily.groupby( [\"Station\", \"Year\"] ).agg( {\"DailyTraffic\": \"sum\"} )\n",
    "df_test = df_test.reset_index()\n",
    "\n",
    "station_usage_dic = {}\n",
    "for idx, row in df_test.iterrows():\n",
    "    station = row[\"Station\"]\n",
    "    year    = row[\"Year\"]\n",
    "    traffic = row[\"DailyTraffic\"]\n",
    "    \n",
    "    if station in station_usage_dic.keys():\n",
    "        station_usage_dic[station][year] = traffic\n",
    "    else:\n",
    "        station_usage_dic[station] = {}\n",
    "        station_usage_dic[station][year] = traffic\n",
    "\n",
    "df_test = pd.DataFrame( station_usage_dic ).transpose()\n",
    "df_test[\"ChangePerc\"] = (df_test[\"13\"] - df_test[\"12\"]) / df_test[\"12\"] * 100.0\n"
   ]
  },
  {
   "cell_type": "code",
   "execution_count": 20,
   "metadata": {
    "collapsed": false
   },
   "outputs": [
    {
     "data": {
      "text/html": [
       "<div>\n",
       "<table border=\"1\" class=\"dataframe\">\n",
       "  <thead>\n",
       "    <tr style=\"text-align: right;\">\n",
       "      <th></th>\n",
       "      <th>12</th>\n",
       "      <th>13</th>\n",
       "      <th>ChangePerc</th>\n",
       "    </tr>\n",
       "  </thead>\n",
       "  <tbody>\n",
       "    <tr>\n",
       "      <th>AVE U</th>\n",
       "      <td>67494719.0</td>\n",
       "      <td>337223.0</td>\n",
       "      <td>-99.500371</td>\n",
       "    </tr>\n",
       "    <tr>\n",
       "      <th>SENECA AVE</th>\n",
       "      <td>3803477.0</td>\n",
       "      <td>692493.0</td>\n",
       "      <td>-81.793159</td>\n",
       "    </tr>\n",
       "    <tr>\n",
       "      <th>JOURNAL SQUARE</th>\n",
       "      <td>879095.0</td>\n",
       "      <td>602156.0</td>\n",
       "      <td>-31.502739</td>\n",
       "    </tr>\n",
       "    <tr>\n",
       "      <th>ELDERTS LANE</th>\n",
       "      <td>147770.0</td>\n",
       "      <td>109439.0</td>\n",
       "      <td>-25.939636</td>\n",
       "    </tr>\n",
       "    <tr>\n",
       "      <th>116 ST-COLUMBIA</th>\n",
       "      <td>459799.0</td>\n",
       "      <td>346547.0</td>\n",
       "      <td>-24.630763</td>\n",
       "    </tr>\n",
       "  </tbody>\n",
       "</table>\n",
       "</div>"
      ],
      "text/plain": [
       "                         12        13  ChangePerc\n",
       "AVE U            67494719.0  337223.0  -99.500371\n",
       "SENECA AVE        3803477.0  692493.0  -81.793159\n",
       "JOURNAL SQUARE     879095.0  602156.0  -31.502739\n",
       "ELDERTS LANE       147770.0  109439.0  -25.939636\n",
       "116 ST-COLUMBIA    459799.0  346547.0  -24.630763"
      ]
     },
     "execution_count": 20,
     "metadata": {},
     "output_type": "execute_result"
    }
   ],
   "source": [
    "# declined the most\n",
    "df_test.sort_values(by=\"ChangePerc\").head()"
   ]
  },
  {
   "cell_type": "code",
   "execution_count": 21,
   "metadata": {
    "collapsed": false
   },
   "outputs": [
    {
     "data": {
      "text/html": [
       "<div>\n",
       "<table border=\"1\" class=\"dataframe\">\n",
       "  <thead>\n",
       "    <tr style=\"text-align: right;\">\n",
       "      <th></th>\n",
       "      <th>12</th>\n",
       "      <th>13</th>\n",
       "      <th>ChangePerc</th>\n",
       "    </tr>\n",
       "  </thead>\n",
       "  <tbody>\n",
       "    <tr>\n",
       "      <th>BEACH 90 ST</th>\n",
       "      <td>55.0</td>\n",
       "      <td>25478.0</td>\n",
       "      <td>46223.636364</td>\n",
       "    </tr>\n",
       "    <tr>\n",
       "      <th>FT HAMILTON PKY</th>\n",
       "      <td>433992.0</td>\n",
       "      <td>166669890.0</td>\n",
       "      <td>38303.908367</td>\n",
       "    </tr>\n",
       "    <tr>\n",
       "      <th>BEACH 44 ST</th>\n",
       "      <td>818.0</td>\n",
       "      <td>20336.0</td>\n",
       "      <td>2386.063570</td>\n",
       "    </tr>\n",
       "    <tr>\n",
       "      <th>BEACH 67 ST</th>\n",
       "      <td>4333.0</td>\n",
       "      <td>63377.0</td>\n",
       "      <td>1362.658666</td>\n",
       "    </tr>\n",
       "    <tr>\n",
       "      <th>GRANT AVE</th>\n",
       "      <td>149837.0</td>\n",
       "      <td>1815064.0</td>\n",
       "      <td>1111.359010</td>\n",
       "    </tr>\n",
       "  </tbody>\n",
       "</table>\n",
       "</div>"
      ],
      "text/plain": [
       "                       12           13    ChangePerc\n",
       "BEACH 90 ST          55.0      25478.0  46223.636364\n",
       "FT HAMILTON PKY  433992.0  166669890.0  38303.908367\n",
       "BEACH 44 ST         818.0      20336.0   2386.063570\n",
       "BEACH 67 ST        4333.0      63377.0   1362.658666\n",
       "GRANT AVE        149837.0    1815064.0   1111.359010"
      ]
     },
     "execution_count": 21,
     "metadata": {},
     "output_type": "execute_result"
    }
   ],
   "source": [
    "# grew the most\n",
    "df_test.sort_values(by=\"ChangePerc\",ascending=False).head()"
   ]
  },
  {
   "cell_type": "code",
   "execution_count": 22,
   "metadata": {
    "collapsed": false
   },
   "outputs": [
    {
     "data": {
      "text/html": [
       "<div>\n",
       "<table border=\"1\" class=\"dataframe\">\n",
       "  <thead>\n",
       "    <tr style=\"text-align: right;\">\n",
       "      <th></th>\n",
       "      <th>DailyTraffic</th>\n",
       "    </tr>\n",
       "    <tr>\n",
       "      <th>Date</th>\n",
       "      <th></th>\n",
       "    </tr>\n",
       "  </thead>\n",
       "  <tbody>\n",
       "    <tr>\n",
       "      <th>12-02-12</th>\n",
       "      <td>5136158.0</td>\n",
       "    </tr>\n",
       "    <tr>\n",
       "      <th>12-09-12</th>\n",
       "      <td>5143149.0</td>\n",
       "    </tr>\n",
       "    <tr>\n",
       "      <th>05-26-13</th>\n",
       "      <td>5160451.0</td>\n",
       "    </tr>\n",
       "    <tr>\n",
       "      <th>12-16-12</th>\n",
       "      <td>5215454.0</td>\n",
       "    </tr>\n",
       "    <tr>\n",
       "      <th>06-02-13</th>\n",
       "      <td>5482357.0</td>\n",
       "    </tr>\n",
       "  </tbody>\n",
       "</table>\n",
       "</div>"
      ],
      "text/plain": [
       "          DailyTraffic\n",
       "Date                  \n",
       "12-02-12     5136158.0\n",
       "12-09-12     5143149.0\n",
       "05-26-13     5160451.0\n",
       "12-16-12     5215454.0\n",
       "06-02-13     5482357.0"
      ]
     },
     "execution_count": 22,
     "metadata": {},
     "output_type": "execute_result"
    }
   ],
   "source": [
    "# What dates are the least busy?\n",
    "df_test = df_daily.groupby( [\"Date\"] ).agg( {\"DailyTraffic\": \"sum\"} ).sort_values(by=\"DailyTraffic\")\n",
    "df_test.head()"
   ]
  },
  {
   "cell_type": "code",
   "execution_count": 23,
   "metadata": {
    "collapsed": false
   },
   "outputs": [
    {
     "data": {
      "text/html": [
       "<div>\n",
       "<table border=\"1\" class=\"dataframe\">\n",
       "  <thead>\n",
       "    <tr style=\"text-align: right;\">\n",
       "      <th></th>\n",
       "      <th>Station</th>\n",
       "      <th>Date</th>\n",
       "      <th>DailyTraffic</th>\n",
       "      <th>DailyMin</th>\n",
       "      <th>DailyMean</th>\n",
       "      <th>DailyMax</th>\n",
       "    </tr>\n",
       "  </thead>\n",
       "  <tbody>\n",
       "    <tr>\n",
       "      <th>0</th>\n",
       "      <td>1 AVE</td>\n",
       "      <td>05-25-13</td>\n",
       "      <td>120.0</td>\n",
       "      <td>1785316.0</td>\n",
       "      <td>42507.52381</td>\n",
       "      <td>55269.0</td>\n",
       "    </tr>\n",
       "    <tr>\n",
       "      <th>1</th>\n",
       "      <td>1 AVE</td>\n",
       "      <td>05-26-13</td>\n",
       "      <td>269.0</td>\n",
       "      <td>1785316.0</td>\n",
       "      <td>42507.52381</td>\n",
       "      <td>55269.0</td>\n",
       "    </tr>\n",
       "    <tr>\n",
       "      <th>2</th>\n",
       "      <td>1 AVE</td>\n",
       "      <td>05-27-13</td>\n",
       "      <td>87.0</td>\n",
       "      <td>1785316.0</td>\n",
       "      <td>42507.52381</td>\n",
       "      <td>55269.0</td>\n",
       "    </tr>\n",
       "    <tr>\n",
       "      <th>3</th>\n",
       "      <td>1 AVE</td>\n",
       "      <td>05-28-13</td>\n",
       "      <td>40864.0</td>\n",
       "      <td>1785316.0</td>\n",
       "      <td>42507.52381</td>\n",
       "      <td>55269.0</td>\n",
       "    </tr>\n",
       "    <tr>\n",
       "      <th>4</th>\n",
       "      <td>1 AVE</td>\n",
       "      <td>05-29-13</td>\n",
       "      <td>47474.0</td>\n",
       "      <td>1785316.0</td>\n",
       "      <td>42507.52381</td>\n",
       "      <td>55269.0</td>\n",
       "    </tr>\n",
       "  </tbody>\n",
       "</table>\n",
       "</div>"
      ],
      "text/plain": [
       "  Station      Date  DailyTraffic   DailyMin    DailyMean  DailyMax\n",
       "0   1 AVE  05-25-13         120.0  1785316.0  42507.52381   55269.0\n",
       "1   1 AVE  05-26-13         269.0  1785316.0  42507.52381   55269.0\n",
       "2   1 AVE  05-27-13          87.0  1785316.0  42507.52381   55269.0\n",
       "3   1 AVE  05-28-13       40864.0  1785316.0  42507.52381   55269.0\n",
       "4   1 AVE  05-29-13       47474.0  1785316.0  42507.52381   55269.0"
      ]
     },
     "execution_count": 23,
     "metadata": {},
     "output_type": "execute_result"
    }
   ],
   "source": [
    "# Could you identify days on which stations were not operating at full capacity\n",
    "# or closed entirely?\n",
    "\n",
    "df_test = df_daily.groupby([\"Station\",\"Date\"]).agg( {\"DailyTraffic\": 'sum'} )\n",
    "df_test = df_test.reset_index()\n",
    "df_test.head()\n",
    "\n",
    "df_stats = df_test.groupby(\"Station\")[\"DailyTraffic\"].agg( {\n",
    "        \"DailyMin\" : \"sum\",\n",
    "        \"DailyMax\" : \"max\",\n",
    "        \"DailyMean\": \"mean\"\n",
    "    } )\n",
    "df_stats = df_stats.reset_index()\n",
    "\n",
    "df_test = pd.merge(df_test, df_stats, on=[\"Station\"], how='inner');\n",
    "df_test.head()"
   ]
  },
  {
   "cell_type": "code",
   "execution_count": 24,
   "metadata": {
    "collapsed": false,
    "scrolled": true
   },
   "outputs": [
    {
     "data": {
      "text/html": [
       "<div>\n",
       "<table border=\"1\" class=\"dataframe\">\n",
       "  <thead>\n",
       "    <tr style=\"text-align: right;\">\n",
       "      <th></th>\n",
       "      <th>Station</th>\n",
       "      <th>Date</th>\n",
       "      <th>DailyTraffic</th>\n",
       "      <th>DailyMean</th>\n",
       "    </tr>\n",
       "  </thead>\n",
       "  <tbody>\n",
       "    <tr>\n",
       "      <th>0</th>\n",
       "      <td>1 AVE</td>\n",
       "      <td>05-25-13</td>\n",
       "      <td>120.0</td>\n",
       "      <td>42507.52381</td>\n",
       "    </tr>\n",
       "    <tr>\n",
       "      <th>1</th>\n",
       "      <td>1 AVE</td>\n",
       "      <td>05-26-13</td>\n",
       "      <td>269.0</td>\n",
       "      <td>42507.52381</td>\n",
       "    </tr>\n",
       "    <tr>\n",
       "      <th>2</th>\n",
       "      <td>1 AVE</td>\n",
       "      <td>05-27-13</td>\n",
       "      <td>87.0</td>\n",
       "      <td>42507.52381</td>\n",
       "    </tr>\n",
       "    <tr>\n",
       "      <th>3</th>\n",
       "      <td>1 AVE</td>\n",
       "      <td>05-28-13</td>\n",
       "      <td>40864.0</td>\n",
       "      <td>42507.52381</td>\n",
       "    </tr>\n",
       "    <tr>\n",
       "      <th>7</th>\n",
       "      <td>1 AVE</td>\n",
       "      <td>06-01-13</td>\n",
       "      <td>41074.0</td>\n",
       "      <td>42507.52381</td>\n",
       "    </tr>\n",
       "  </tbody>\n",
       "</table>\n",
       "</div>"
      ],
      "text/plain": [
       "  Station      Date  DailyTraffic    DailyMean\n",
       "0   1 AVE  05-25-13         120.0  42507.52381\n",
       "1   1 AVE  05-26-13         269.0  42507.52381\n",
       "2   1 AVE  05-27-13          87.0  42507.52381\n",
       "3   1 AVE  05-28-13       40864.0  42507.52381\n",
       "7   1 AVE  06-01-13       41074.0  42507.52381"
      ]
     },
     "execution_count": 24,
     "metadata": {},
     "output_type": "execute_result"
    }
   ],
   "source": [
    "not_full = df_test[df_test[\"DailyTraffic\"] < df_test[\"DailyMean\"]]\n",
    "closed   = df_test[df_test[\"DailyTraffic\"] == 0]\n",
    "\n",
    "not_full[[\"Station\",\"Date\", \"DailyTraffic\", \"DailyMean\"]].head()"
   ]
  },
  {
   "cell_type": "code",
   "execution_count": 25,
   "metadata": {
    "collapsed": false
   },
   "outputs": [
    {
     "data": {
      "text/html": [
       "<div>\n",
       "<table border=\"1\" class=\"dataframe\">\n",
       "  <thead>\n",
       "    <tr style=\"text-align: right;\">\n",
       "      <th></th>\n",
       "      <th>Station</th>\n",
       "      <th>Date</th>\n",
       "      <th>DailyTraffic</th>\n",
       "    </tr>\n",
       "  </thead>\n",
       "  <tbody>\n",
       "    <tr>\n",
       "      <th>131</th>\n",
       "      <td>104 ST</td>\n",
       "      <td>06-02-13</td>\n",
       "      <td>0.0</td>\n",
       "    </tr>\n",
       "    <tr>\n",
       "      <th>981</th>\n",
       "      <td>14TH STREET</td>\n",
       "      <td>12-09-12</td>\n",
       "      <td>0.0</td>\n",
       "    </tr>\n",
       "    <tr>\n",
       "      <th>988</th>\n",
       "      <td>14TH STREET</td>\n",
       "      <td>12-16-12</td>\n",
       "      <td>0.0</td>\n",
       "    </tr>\n",
       "    <tr>\n",
       "      <th>1202</th>\n",
       "      <td>167 ST</td>\n",
       "      <td>05-25-13</td>\n",
       "      <td>0.0</td>\n",
       "    </tr>\n",
       "    <tr>\n",
       "      <th>1944</th>\n",
       "      <td>21 ST</td>\n",
       "      <td>05-25-13</td>\n",
       "      <td>0.0</td>\n",
       "    </tr>\n",
       "  </tbody>\n",
       "</table>\n",
       "</div>"
      ],
      "text/plain": [
       "          Station      Date  DailyTraffic\n",
       "131        104 ST  06-02-13           0.0\n",
       "981   14TH STREET  12-09-12           0.0\n",
       "988   14TH STREET  12-16-12           0.0\n",
       "1202       167 ST  05-25-13           0.0\n",
       "1944        21 ST  05-25-13           0.0"
      ]
     },
     "execution_count": 25,
     "metadata": {},
     "output_type": "execute_result"
    }
   ],
   "source": [
    "closed[[\"Station\",\"Date\",\"DailyTraffic\"]].head()"
   ]
  },
  {
   "cell_type": "markdown",
   "metadata": {},
   "source": [
    "# Step 4 - data visualization:\n",
    "-                 Plot the daily row counts for data files in Q3 2013.\n",
    "-                 Plot the daily total number of entries & exits across the system for Q3 2013.\n",
    "-                 Plot the mean and standard deviation of the daily total number of entries & exits for each month in Q3 2013 for station 34 ST-PENN STA.\n",
    "-                 Plot 25/50/75 percentile of the daily total number of entries & exits for each month in Q3 2013 for station 34 ST-PENN STA.\n",
    "-                 Plot the daily number of closed stations and number of stations that were not operating at full capacity in Q3 2013.\n",
    " "
   ]
  },
  {
   "cell_type": "code",
   "execution_count": 232,
   "metadata": {
    "collapsed": false
   },
   "outputs": [],
   "source": [
    "# Plot the daily row counts for data files in Q3 2013.\n",
    "\n",
    "def get_quarter( month ):\n",
    "    return str( int( math.ceil(month/3.) ) )\n",
    "\n",
    "df_norm[\"Year\"]    = df_norm[\"Date\"].apply(lambda x: x[-2:])\n",
    "df_norm[\"Quarter\"] = df_norm[\"Date\"].apply(lambda x: get_quarter(int(x[:2])))\n",
    "\n",
    "df_test = df_norm[ (df_norm[\"Year\"] == \"13\") & (df_norm[\"Quarter\"] == \"3\") ]\n",
    "df_test = df_test.sort_values(by=\"Date\")\n"
   ]
  },
  {
   "cell_type": "code",
   "execution_count": 233,
   "metadata": {
    "collapsed": false
   },
   "outputs": [
    {
     "data": {
      "text/plain": [
       "<matplotlib.axes._subplots.AxesSubplot at 0x16cc9ba10>"
      ]
     },
     "execution_count": 233,
     "metadata": {},
     "output_type": "execute_result"
    },
    {
     "data": {
      "image/png": "[encoded data removed]",
      "text/plain": [
       "<matplotlib.figure.Figure at 0x16bf96910>"
      ]
     },
     "metadata": {},
     "output_type": "display_data"
    }
   ],
   "source": [
    "t_df = pd.DataFrame( df_test[\"Date\"].value_counts() ).reset_index().sort_values(\"index\")\n",
    "t_df.set_index(\"index\").plot()"
   ]
  },
  {
   "cell_type": "code",
   "execution_count": 39,
   "metadata": {
    "collapsed": false
   },
   "outputs": [],
   "source": [
    "\n",
    "\n",
    "df_daily[\"Month\"]   = df_daily.apply( lambda x: str(int(x[\"Date\"][:2])), axis=1 )\n",
    "df_daily[\"Quarter\"] = df_daily.apply( lambda x: get_quarter( int(x[\"Date\"][:2]) ), axis=1 )\n"
   ]
  },
  {
   "cell_type": "code",
   "execution_count": 40,
   "metadata": {
    "collapsed": false
   },
   "outputs": [
    {
     "data": {
      "text/html": [
       "<div>\n",
       "<table border=\"1\" class=\"dataframe\">\n",
       "  <thead>\n",
       "    <tr style=\"text-align: right;\">\n",
       "      <th></th>\n",
       "      <th>Station</th>\n",
       "      <th>DeviceID</th>\n",
       "      <th>Date</th>\n",
       "      <th>DailyExit</th>\n",
       "      <th>DailyEntry</th>\n",
       "      <th>DailyTraffic</th>\n",
       "      <th>DailyMean</th>\n",
       "      <th>DailyStd</th>\n",
       "      <th>Year</th>\n",
       "      <th>Quarter</th>\n",
       "      <th>Month</th>\n",
       "    </tr>\n",
       "  </thead>\n",
       "  <tbody>\n",
       "    <tr>\n",
       "      <th>1</th>\n",
       "      <td>1 AVE</td>\n",
       "      <td>H007-R248-00-00-00</td>\n",
       "      <td>05-26-13</td>\n",
       "      <td>73.0</td>\n",
       "      <td>0.0</td>\n",
       "      <td>73.0</td>\n",
       "      <td>36830.357143</td>\n",
       "      <td>190950.444686</td>\n",
       "      <td>13</td>\n",
       "      <td>2</td>\n",
       "      <td>5</td>\n",
       "    </tr>\n",
       "    <tr>\n",
       "      <th>2</th>\n",
       "      <td>1 AVE</td>\n",
       "      <td>H007-R248-00-00-00</td>\n",
       "      <td>05-27-13</td>\n",
       "      <td>26.0</td>\n",
       "      <td>0.0</td>\n",
       "      <td>26.0</td>\n",
       "      <td>36830.357143</td>\n",
       "      <td>190950.444686</td>\n",
       "      <td>13</td>\n",
       "      <td>2</td>\n",
       "      <td>5</td>\n",
       "    </tr>\n",
       "    <tr>\n",
       "      <th>3</th>\n",
       "      <td>1 AVE</td>\n",
       "      <td>H007-R248-00-00-00</td>\n",
       "      <td>05-28-13</td>\n",
       "      <td>3126.0</td>\n",
       "      <td>3423.0</td>\n",
       "      <td>6549.0</td>\n",
       "      <td>36830.357143</td>\n",
       "      <td>190950.444686</td>\n",
       "      <td>13</td>\n",
       "      <td>2</td>\n",
       "      <td>5</td>\n",
       "    </tr>\n",
       "    <tr>\n",
       "      <th>4</th>\n",
       "      <td>1 AVE</td>\n",
       "      <td>H007-R248-00-00-00</td>\n",
       "      <td>05-29-13</td>\n",
       "      <td>4362.0</td>\n",
       "      <td>3954.0</td>\n",
       "      <td>8316.0</td>\n",
       "      <td>36830.357143</td>\n",
       "      <td>190950.444686</td>\n",
       "      <td>13</td>\n",
       "      <td>2</td>\n",
       "      <td>5</td>\n",
       "    </tr>\n",
       "    <tr>\n",
       "      <th>5</th>\n",
       "      <td>1 AVE</td>\n",
       "      <td>H007-R248-00-00-00</td>\n",
       "      <td>05-30-13</td>\n",
       "      <td>4594.0</td>\n",
       "      <td>3744.0</td>\n",
       "      <td>8338.0</td>\n",
       "      <td>36830.357143</td>\n",
       "      <td>190950.444686</td>\n",
       "      <td>13</td>\n",
       "      <td>2</td>\n",
       "      <td>5</td>\n",
       "    </tr>\n",
       "  </tbody>\n",
       "</table>\n",
       "</div>"
      ],
      "text/plain": [
       "  Station            DeviceID      Date  DailyExit  DailyEntry  DailyTraffic  \\\n",
       "1   1 AVE  H007-R248-00-00-00  05-26-13       73.0         0.0          73.0   \n",
       "2   1 AVE  H007-R248-00-00-00  05-27-13       26.0         0.0          26.0   \n",
       "3   1 AVE  H007-R248-00-00-00  05-28-13     3126.0      3423.0        6549.0   \n",
       "4   1 AVE  H007-R248-00-00-00  05-29-13     4362.0      3954.0        8316.0   \n",
       "5   1 AVE  H007-R248-00-00-00  05-30-13     4594.0      3744.0        8338.0   \n",
       "\n",
       "      DailyMean       DailyStd Year Quarter Month  \n",
       "1  36830.357143  190950.444686   13       2     5  \n",
       "2  36830.357143  190950.444686   13       2     5  \n",
       "3  36830.357143  190950.444686   13       2     5  \n",
       "4  36830.357143  190950.444686   13       2     5  \n",
       "5  36830.357143  190950.444686   13       2     5  "
      ]
     },
     "execution_count": 40,
     "metadata": {},
     "output_type": "execute_result"
    }
   ],
   "source": [
    "df_daily.head()"
   ]
  },
  {
   "cell_type": "code",
   "execution_count": 41,
   "metadata": {
    "collapsed": false
   },
   "outputs": [],
   "source": [
    "year    = \"13\"\n",
    "quarter = \"2\"\n",
    "\n",
    "df_q = df_daily[ (df_daily[\"Year\"] == year) & (df_daily[\"Quarter\"] == quarter) ]"
   ]
  },
  {
   "cell_type": "code",
   "execution_count": 42,
   "metadata": {
    "collapsed": false,
    "scrolled": true
   },
   "outputs": [
    {
     "data": {
      "text/plain": [
       "<matplotlib.figure.Figure at 0x1139d2f10>"
      ]
     },
     "metadata": {},
     "output_type": "display_data"
    },
    {
     "data": {
      "image/png": "[encoded data removed]",
      "text/plain": [
       "<matplotlib.figure.Figure at 0x1203f8710>"
      ]
     },
     "metadata": {},
     "output_type": "display_data"
    }
   ],
   "source": [
    "# Plot the daily total number of entries & exits across the system for Q3 2013.\n",
    "df_test = df_q.groupby(\"Date\").agg({\"DailyEntry\": \"sum\", \"DailyExit\": sum})\n",
    "plt.figure(); df_test.plot();"
   ]
  },
  {
   "cell_type": "code",
   "execution_count": 69,
   "metadata": {
    "collapsed": true
   },
   "outputs": [
    {
     "data": {
      "text/html": [
       "<div>\n",
       "<table border=\"1\" class=\"dataframe\">\n",
       "  <thead>\n",
       "    <tr style=\"text-align: right;\">\n",
       "      <th></th>\n",
       "      <th>DailyEntryStd</th>\n",
       "      <th>DailyExitStd</th>\n",
       "    </tr>\n",
       "    <tr>\n",
       "      <th>Date</th>\n",
       "      <th></th>\n",
       "      <th></th>\n",
       "    </tr>\n",
       "  </thead>\n",
       "  <tbody>\n",
       "    <tr>\n",
       "      <th>05-25-13</th>\n",
       "      <td>474.785004</td>\n",
       "      <td>806.630461</td>\n",
       "    </tr>\n",
       "    <tr>\n",
       "      <th>05-26-13</th>\n",
       "      <td>621.598496</td>\n",
       "      <td>681.302500</td>\n",
       "    </tr>\n",
       "    <tr>\n",
       "      <th>05-27-13</th>\n",
       "      <td>720.501781</td>\n",
       "      <td>667.876615</td>\n",
       "    </tr>\n",
       "    <tr>\n",
       "      <th>05-28-13</th>\n",
       "      <td>1255.032151</td>\n",
       "      <td>1209.545886</td>\n",
       "    </tr>\n",
       "    <tr>\n",
       "      <th>05-29-13</th>\n",
       "      <td>1194.658291</td>\n",
       "      <td>1139.199572</td>\n",
       "    </tr>\n",
       "  </tbody>\n",
       "</table>\n",
       "</div>"
      ],
      "text/plain": [
       "          DailyEntryStd  DailyExitStd\n",
       "Date                                 \n",
       "05-25-13     474.785004    806.630461\n",
       "05-26-13     621.598496    681.302500\n",
       "05-27-13     720.501781    667.876615\n",
       "05-28-13    1255.032151   1209.545886\n",
       "05-29-13    1194.658291   1139.199572"
      ]
     },
     "execution_count": 69,
     "metadata": {},
     "output_type": "execute_result"
    }
   ],
   "source": [
    "# Plot the mean and standard deviation of the daily total number of entries & exits \n",
    "# for each month in Q3 2013 for station 34 ST-PENN STA.\n",
    "df_test = df_q[df_q[\"Station\"] == \"34 ST-PENN STA\"]\n",
    "\n",
    "df_month_entry = df_test.groupby(\"Date\")[\"DailyEntry\"].agg( {\"DailyEntryMean\": np.mean, \"DailyEntryStd\": np.std} )\n",
    "df_month_entry = df_month_entry.reset_index()\n",
    "df_month_exit  = df_test.groupby(\"Date\")[\"DailyExit\"].agg( {\"DailyExitMean\": np.mean, \"DailyExitStd\": np.std} )\n",
    "df_month_exit = df_month_exit.reset_index()\n",
    "\n",
    "df_month = pd.merge(df_month_entry, df_month_exit, on='Date', how='inner').set_index(\"Date\");\n",
    "df_month.head()\n",
    "\n",
    "means  = df_month[[\"DailyEntryMean\", \"DailyExitMean\"]]\n",
    "errors = df_month[[\"DailyEntryStd\", \"DailyExitStd\"]]"
   ]
  },
  {
   "cell_type": "code",
   "execution_count": 82,
   "metadata": {
    "collapsed": false
   },
   "outputs": [
    {
     "data": {
      "text/plain": [
       "<matplotlib.axes._subplots.AxesSubplot at 0x150914bd0>"
      ]
     },
     "execution_count": 82,
     "metadata": {},
     "output_type": "execute_result"
    },
    {
     "data": {
      "image/png": "[encoded data removed]",
      "text/plain": [
       "<matplotlib.figure.Figure at 0x139702390>"
      ]
     },
     "metadata": {},
     "output_type": "display_data"
    }
   ],
   "source": [
    "means.plot.line(figsize=(20,5))"
   ]
  },
  {
   "cell_type": "code",
   "execution_count": 83,
   "metadata": {
    "collapsed": false,
    "scrolled": true
   },
   "outputs": [
    {
     "data": {
      "text/plain": [
       "<matplotlib.axes._subplots.AxesSubplot at 0x1527da350>"
      ]
     },
     "execution_count": 83,
     "metadata": {},
     "output_type": "execute_result"
    },
    {
     "data": {
      "image/png": "[encoded data removed]",
      "text/plain": [
       "<matplotlib.figure.Figure at 0x15276ae50>"
      ]
     },
     "metadata": {},
     "output_type": "display_data"
    }
   ],
   "source": [
    "errors.plot.line(figsize=(20,5))"
   ]
  },
  {
   "cell_type": "code",
   "execution_count": 132,
   "metadata": {
    "collapsed": false
   },
   "outputs": [],
   "source": [
    "# Plot 25/50/75 percentile of the daily total number of entries & exits \n",
    "# for each month in Q3 2013 for station 34 ST-PENN STA.\n",
    "df_test = df_q[df_q[\"Station\"] == \"34 ST-PENN STA\"]\n",
    "df_test_entry = df_test[[\"Date\",\"DeviceID\",\"DailyEntry\"]]\n",
    "df_test_exit  = df_test[[\"Date\",\"DeviceID\",\"DailyExit\"]]"
   ]
  },
  {
   "cell_type": "code",
   "execution_count": 130,
   "metadata": {
    "collapsed": false
   },
   "outputs": [
    {
     "data": {
      "text/plain": [
       "<matplotlib.axes._subplots.AxesSubplot at 0x16acffd50>"
      ]
     },
     "execution_count": 130,
     "metadata": {},
     "output_type": "execute_result"
    },
    {
     "data": {
      "image/png": "[encoded data removed]",
      "text/plain": [
       "<matplotlib.figure.Figure at 0x16acc3f10>"
      ]
     },
     "metadata": {},
     "output_type": "display_data"
    }
   ],
   "source": [
    "pivot = pd.pivot_table(df_test_entry, index=[\"DeviceID\"], columns=[\"Date\"], values=[\"DailyEntry\"])\n",
    "pivot.plot.box(figsize=(40,5), rot=270)"
   ]
  },
  {
   "cell_type": "code",
   "execution_count": 133,
   "metadata": {
    "collapsed": false
   },
   "outputs": [
    {
     "data": {
      "text/plain": [
       "<matplotlib.axes._subplots.AxesSubplot at 0x16b9cd250>"
      ]
     },
     "execution_count": 133,
     "metadata": {},
     "output_type": "execute_result"
    },
    {
     "data": {
      "image/png": "[encoded data removed]",
      "text/plain": [
       "<matplotlib.figure.Figure at 0x15f705850>"
      ]
     },
     "metadata": {},
     "output_type": "display_data"
    }
   ],
   "source": [
    "pivot = pd.pivot_table(df_test_exit, index=[\"DeviceID\"], columns=[\"Date\"], values=[\"DailyExit\"])\n",
    "pivot.plot.box(figsize=(40,5), rot=270)"
   ]
  },
  {
   "cell_type": "code",
   "execution_count": 135,
   "metadata": {
    "collapsed": false
   },
   "outputs": [
    {
     "data": {
      "text/html": [
       "<div>\n",
       "<table border=\"1\" class=\"dataframe\">\n",
       "  <thead>\n",
       "    <tr style=\"text-align: right;\">\n",
       "      <th></th>\n",
       "      <th>Station</th>\n",
       "      <th>Date</th>\n",
       "      <th>DailyTraffic</th>\n",
       "      <th>DailyMin</th>\n",
       "      <th>DailyMean</th>\n",
       "      <th>DailyMax</th>\n",
       "    </tr>\n",
       "  </thead>\n",
       "  <tbody>\n",
       "    <tr>\n",
       "      <th>0</th>\n",
       "      <td>1 AVE</td>\n",
       "      <td>05-25-13</td>\n",
       "      <td>120.0</td>\n",
       "      <td>844626.0</td>\n",
       "      <td>40220.285714</td>\n",
       "      <td>55269.0</td>\n",
       "    </tr>\n",
       "    <tr>\n",
       "      <th>1</th>\n",
       "      <td>1 AVE</td>\n",
       "      <td>05-26-13</td>\n",
       "      <td>269.0</td>\n",
       "      <td>844626.0</td>\n",
       "      <td>40220.285714</td>\n",
       "      <td>55269.0</td>\n",
       "    </tr>\n",
       "    <tr>\n",
       "      <th>2</th>\n",
       "      <td>1 AVE</td>\n",
       "      <td>05-27-13</td>\n",
       "      <td>87.0</td>\n",
       "      <td>844626.0</td>\n",
       "      <td>40220.285714</td>\n",
       "      <td>55269.0</td>\n",
       "    </tr>\n",
       "    <tr>\n",
       "      <th>3</th>\n",
       "      <td>1 AVE</td>\n",
       "      <td>05-28-13</td>\n",
       "      <td>40864.0</td>\n",
       "      <td>844626.0</td>\n",
       "      <td>40220.285714</td>\n",
       "      <td>55269.0</td>\n",
       "    </tr>\n",
       "    <tr>\n",
       "      <th>4</th>\n",
       "      <td>1 AVE</td>\n",
       "      <td>05-29-13</td>\n",
       "      <td>47474.0</td>\n",
       "      <td>844626.0</td>\n",
       "      <td>40220.285714</td>\n",
       "      <td>55269.0</td>\n",
       "    </tr>\n",
       "  </tbody>\n",
       "</table>\n",
       "</div>"
      ],
      "text/plain": [
       "  Station      Date  DailyTraffic  DailyMin     DailyMean  DailyMax\n",
       "0   1 AVE  05-25-13         120.0  844626.0  40220.285714   55269.0\n",
       "1   1 AVE  05-26-13         269.0  844626.0  40220.285714   55269.0\n",
       "2   1 AVE  05-27-13          87.0  844626.0  40220.285714   55269.0\n",
       "3   1 AVE  05-28-13       40864.0  844626.0  40220.285714   55269.0\n",
       "4   1 AVE  05-29-13       47474.0  844626.0  40220.285714   55269.0"
      ]
     },
     "execution_count": 135,
     "metadata": {},
     "output_type": "execute_result"
    }
   ],
   "source": [
    "# Plot the daily number of closed stations and number of stations \n",
    "# that were not operating at full capacity in Q3 2013.\n",
    "\n",
    "df_test = df_q.groupby([\"Station\",\"Date\"]).agg( {\"DailyTraffic\": 'sum'} )\n",
    "df_test = df_test.reset_index()\n",
    "#df_test.head()\n",
    "\n",
    "df_stats = df_test.groupby(\"Station\")[\"DailyTraffic\"].agg( {\n",
    "        \"DailyMin\" : \"sum\",\n",
    "        \"DailyMax\" : \"max\",\n",
    "        \"DailyMean\": \"mean\"\n",
    "    } )\n",
    "df_stats = df_stats.reset_index()\n",
    "\n",
    "df_test = pd.merge(df_test, df_stats, on=[\"Station\"], how='inner');\n",
    "df_test.head()"
   ]
  },
  {
   "cell_type": "code",
   "execution_count": 136,
   "metadata": {
    "collapsed": true
   },
   "outputs": [],
   "source": [
    "not_full = df_test[df_test[\"DailyTraffic\"] < df_test[\"DailyMean\"]]\n",
    "closed   = df_test[df_test[\"DailyTraffic\"] == 0]"
   ]
  },
  {
   "cell_type": "code",
   "execution_count": 137,
   "metadata": {
    "collapsed": false,
    "scrolled": true
   },
   "outputs": [
    {
     "data": {
      "text/html": [
       "<div>\n",
       "<table border=\"1\" class=\"dataframe\">\n",
       "  <thead>\n",
       "    <tr style=\"text-align: right;\">\n",
       "      <th></th>\n",
       "      <th>Station</th>\n",
       "      <th>Date</th>\n",
       "      <th>DailyTraffic</th>\n",
       "      <th>DailyMin</th>\n",
       "      <th>DailyMean</th>\n",
       "      <th>DailyMax</th>\n",
       "    </tr>\n",
       "  </thead>\n",
       "  <tbody>\n",
       "    <tr>\n",
       "      <th>0</th>\n",
       "      <td>1 AVE</td>\n",
       "      <td>05-25-13</td>\n",
       "      <td>120.0</td>\n",
       "      <td>844626.0</td>\n",
       "      <td>40220.285714</td>\n",
       "      <td>55269.0</td>\n",
       "    </tr>\n",
       "    <tr>\n",
       "      <th>1</th>\n",
       "      <td>1 AVE</td>\n",
       "      <td>05-26-13</td>\n",
       "      <td>269.0</td>\n",
       "      <td>844626.0</td>\n",
       "      <td>40220.285714</td>\n",
       "      <td>55269.0</td>\n",
       "    </tr>\n",
       "    <tr>\n",
       "      <th>2</th>\n",
       "      <td>1 AVE</td>\n",
       "      <td>05-27-13</td>\n",
       "      <td>87.0</td>\n",
       "      <td>844626.0</td>\n",
       "      <td>40220.285714</td>\n",
       "      <td>55269.0</td>\n",
       "    </tr>\n",
       "    <tr>\n",
       "      <th>8</th>\n",
       "      <td>1 AVE</td>\n",
       "      <td>06-02-13</td>\n",
       "      <td>35208.0</td>\n",
       "      <td>844626.0</td>\n",
       "      <td>40220.285714</td>\n",
       "      <td>55269.0</td>\n",
       "    </tr>\n",
       "    <tr>\n",
       "      <th>14</th>\n",
       "      <td>1 AVE</td>\n",
       "      <td>06-08-13</td>\n",
       "      <td>38043.0</td>\n",
       "      <td>844626.0</td>\n",
       "      <td>40220.285714</td>\n",
       "      <td>55269.0</td>\n",
       "    </tr>\n",
       "  </tbody>\n",
       "</table>\n",
       "</div>"
      ],
      "text/plain": [
       "   Station      Date  DailyTraffic  DailyMin     DailyMean  DailyMax\n",
       "0    1 AVE  05-25-13         120.0  844626.0  40220.285714   55269.0\n",
       "1    1 AVE  05-26-13         269.0  844626.0  40220.285714   55269.0\n",
       "2    1 AVE  05-27-13          87.0  844626.0  40220.285714   55269.0\n",
       "8    1 AVE  06-02-13       35208.0  844626.0  40220.285714   55269.0\n",
       "14   1 AVE  06-08-13       38043.0  844626.0  40220.285714   55269.0"
      ]
     },
     "execution_count": 137,
     "metadata": {},
     "output_type": "execute_result"
    }
   ],
   "source": [
    "not_full.head()"
   ]
  },
  {
   "cell_type": "code",
   "execution_count": 143,
   "metadata": {
    "collapsed": false
   },
   "outputs": [
    {
     "data": {
      "text/plain": [
       "<matplotlib.axes._subplots.AxesSubplot at 0x16c4fda90>"
      ]
     },
     "execution_count": 143,
     "metadata": {},
     "output_type": "execute_result"
    },
    {
     "data": {
      "image/png": "[encoded data removed]",
      "text/plain": [
       "<matplotlib.figure.Figure at 0x16c50b650>"
      ]
     },
     "metadata": {},
     "output_type": "display_data"
    }
   ],
   "source": [
    "not_full.groupby(\"Date\")[\"Station\"].count().plot()"
   ]
  },
  {
   "cell_type": "code",
   "execution_count": 144,
   "metadata": {
    "collapsed": false
   },
   "outputs": [
    {
     "data": {
      "text/plain": [
       "<matplotlib.axes._subplots.AxesSubplot at 0x16ca4ac10>"
      ]
     },
     "execution_count": 144,
     "metadata": {},
     "output_type": "execute_result"
    },
    {
     "data": {
      "image/png": "[encoded data removed]",
      "text/plain": [
       "<matplotlib.figure.Figure at 0x16c50b250>"
      ]
     },
     "metadata": {},
     "output_type": "display_data"
    }
   ],
   "source": [
    "closed.groupby(\"Date\")[\"Station\"].count().plot()"
   ]
  }
 ],
 "metadata": {
  "kernelspec": {
   "display_name": "Python 2",
   "language": "python",
   "name": "python2"
  },
  "language_info": {
   "codemirror_mode": {
    "name": "ipython",
    "version": 2
   },
   "file_extension": ".py",
   "mimetype": "text/x-python",
   "name": "python",
   "nbconvert_exporter": "python",
   "pygments_lexer": "ipython2",
   "version": "2.7.11"
  }
 },
 "nbformat": 4,
 "nbformat_minor": 0
}
