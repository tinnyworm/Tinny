{
 "cells": [
  {
   "cell_type": "markdown",
   "metadata": {},
   "source": [
    "# NYC MTA Turnstile Usage Dataset\n",
    "\n",
    "Have a look at / download the following dataset :\n",
    "\n",
    "- Go to http://web.mta.info/developers/turnstile.html\n",
    "- This dataset shows entry & exit counter values for each turnstile-device in each station in the NYC Subway System.\n",
    "- Note these aren’t counts per interval, but equivalent to an “odometer” reading for each device.\n",
    " "
   ]
  },
  {
   "cell_type": "markdown",
   "metadata": {},
   "source": [
    "# Step 0 - data download\n",
    "\n",
    "Tool used: Firefox plugin --- DownThemAll!!!\n",
    "\n",
    "Since the analytics and visulization tasks are based on 2013 data stats. I only downloaded the last day of 2011, all 2012 data, all 2013 data, and the first day of 2014."
   ]
  },
  {
   "cell_type": "code",
   "execution_count": 1,
   "metadata": {
    "collapsed": true
   },
   "outputs": [],
   "source": [
    "# files were downloaded to \n",
    "work_path = \"/Users/Wenjie/Projects/GitHub/Tinny/TS/MTA\""
   ]
  },
  {
   "cell_type": "markdown",
   "metadata": {},
   "source": [
    "# Step 1 - raw data load"
   ]
  },
  {
   "cell_type": "code",
   "execution_count": 2,
   "metadata": {
    "collapsed": false
   },
   "outputs": [],
   "source": [
    "import numpy  as np\n",
    "import pandas as pd\n",
    "\n",
    "import os, sys\n",
    "import csv\n",
    "import glob\n",
    "\n",
    "from datetime import datetime\n",
    "from glob     import glob"
   ]
  },
  {
   "cell_type": "code",
   "execution_count": 3,
   "metadata": {
    "collapsed": false
   },
   "outputs": [
    {
     "name": "stderr",
     "output_type": "stream",
     "text": [
      "/Users/Wenjie/anaconda2/lib/python2.7/site-packages/IPython/core/interactiveshell.py:2723: DtypeWarning: Columns (42) have mixed types. Specify dtype option on import or set low_memory=False.\n",
      "  interactivity=interactivity, compiler=compiler, result=result)\n",
      "/Users/Wenjie/anaconda2/lib/python2.7/site-packages/IPython/core/interactiveshell.py:2723: DtypeWarning: Columns (7,12,17,22,27,32) have mixed types. Specify dtype option on import or set low_memory=False.\n",
      "  interactivity=interactivity, compiler=compiler, result=result)\n",
      "/Users/Wenjie/anaconda2/lib/python2.7/site-packages/IPython/core/interactiveshell.py:2723: DtypeWarning: Columns (7,12,17,22,27,32,37) have mixed types. Specify dtype option on import or set low_memory=False.\n",
      "  interactivity=interactivity, compiler=compiler, result=result)\n"
     ]
    },
    {
     "data": {
      "text/plain": [
       "105"
      ]
     },
     "execution_count": 3,
     "metadata": {},
     "output_type": "execute_result"
    }
   ],
   "source": [
    "#file_list = glob( work_path + \"/*.txt\" )\n",
    "file_list = [\"turnstile_130601.txt\", \"turnstile_130608.txt\", \"turnstile_130615.txt\"]\n",
    "\n",
    "# header used\n",
    "header = (\"C/A,UNIT,SCP,\" + \\\n",
    "          \"DATE1,TIME1,DESC1,ENTRIES1,EXITS1,DATE2,TIME2,DESC2,ENTRIES2,EXITS2,\" + \\\n",
    "          \"DATE3,TIME3,DESC3,ENTRIES3,EXITS3,DATE4,TIME4,DESC4,ENTRIES4,EXITS4,\" + \\\n",
    "          \"DATE5,TIME5,DESC5,ENTRIES5,EXITS5,DATE6,TIME6,DESC6,ENTRIES6,EXITS6,\" + \\\n",
    "          \"DATE7,TIME7,DESC7,ENTRIES7,EXITS7,DATE8,TIME8,DESC8,ENTRIES8,EXITS8\").split(\",\")\n",
    "\n",
    "df_raw_list = []\n",
    "for filename in file_list:\n",
    "    try:\n",
    "        df_raw = pd.read_csv(work_path + \"/\" + filename, sep = ',', header = None)\n",
    "        #df_raw = pd.read_csv(filename, sep = ',', header = None)\n",
    "        df_raw.columns = header\n",
    "        df_raw_list.append( df_raw )\n",
    "    except:\n",
    "        pass\n",
    "\n",
    "#df_raw = pd.read_csv(work_path + \"/\" + filename, sep = ',', header = None)\n",
    "#df_raw.shape\n",
    "#df_raw.head()\n",
    "len(df_raw_list)"
   ]
  },
  {
   "cell_type": "code",
   "execution_count": 4,
   "metadata": {
    "collapsed": false
   },
   "outputs": [
    {
     "data": {
      "text/plain": [
       "(24276984, 8)"
      ]
     },
     "execution_count": 4,
     "metadata": {},
     "output_type": "execute_result"
    }
   ],
   "source": [
    "# convert format from\n",
    "\n",
    "# ca,unit,scp,rec1 ... rec8\n",
    "# .\n",
    "# .\n",
    "# to\n",
    "# ca,unit,scp,rec1\n",
    "# ca,unit,scp,rec2\n",
    "# .\n",
    "# .\n",
    "\n",
    "def mta_df_normalization( df ):\n",
    "    \"\"\" normalize the data frame. claps datetime, desc, entries, and exists \"\"\"\n",
    "    \n",
    "    columns_name = [\"C/A\",\"UNIT\",\"SCP\",\"Date\",\"Time\",\"Desc\",\"Entries\",\"Exits\"]    \n",
    "    df_out       = pd.DataFrame(columns = columns_name)\n",
    "    \n",
    "    rec_1 = df[ [\"C/A\",\"UNIT\",\"SCP\",\"DATE1\",\"TIME1\",\"DESC1\",\"ENTRIES1\",\"EXITS1\"] ]; rec_1.columns = columns_name\n",
    "    rec_2 = df[ [\"C/A\",\"UNIT\",\"SCP\",\"DATE2\",\"TIME2\",\"DESC2\",\"ENTRIES2\",\"EXITS2\"] ]; rec_2.columns = columns_name \n",
    "    rec_3 = df[ [\"C/A\",\"UNIT\",\"SCP\",\"DATE3\",\"TIME3\",\"DESC3\",\"ENTRIES3\",\"EXITS3\"] ]; rec_3.columns = columns_name\n",
    "    rec_4 = df[ [\"C/A\",\"UNIT\",\"SCP\",\"DATE4\",\"TIME4\",\"DESC4\",\"ENTRIES4\",\"EXITS4\"] ]; rec_4.columns = columns_name\n",
    "    rec_5 = df[ [\"C/A\",\"UNIT\",\"SCP\",\"DATE5\",\"TIME5\",\"DESC5\",\"ENTRIES5\",\"EXITS5\"] ]; rec_5.columns = columns_name\n",
    "    rec_6 = df[ [\"C/A\",\"UNIT\",\"SCP\",\"DATE6\",\"TIME6\",\"DESC6\",\"ENTRIES6\",\"EXITS6\"] ]; rec_6.columns = columns_name\n",
    "    rec_7 = df[ [\"C/A\",\"UNIT\",\"SCP\",\"DATE7\",\"TIME7\",\"DESC7\",\"ENTRIES7\",\"EXITS7\"] ]; rec_7.columns = columns_name\n",
    "    rec_8 = df[ [\"C/A\",\"UNIT\",\"SCP\",\"DATE8\",\"TIME8\",\"DESC8\",\"ENTRIES8\",\"EXITS8\"] ]; rec_8.columns = columns_name\n",
    "    \n",
    "    df_out = pd.concat( [rec_1, rec_2, rec_3, rec_4, rec_5, rec_6, rec_7, rec_8] )\n",
    "    \n",
    "    return df_out\n",
    "\n",
    "norm_list = [ mta_df_normalization( df ) for df in df_raw_list]\n",
    "df_norm   = pd.concat( norm_list )\n",
    "df_norm.shape"
   ]
  },
  {
   "cell_type": "markdown",
   "metadata": {},
   "source": [
    "# Step 2 - data pre-processing / cleaning\n",
    "\n",
    "- definiton of \"station\"\n",
    "- datetime convertion\n",
    "- hourly / daily traffic calculation\n",
    "- anormilies and outliers cleaning"
   ]
  },
  {
   "cell_type": "code",
   "execution_count": 5,
   "metadata": {
    "collapsed": true
   },
   "outputs": [],
   "source": [
    "del norm_list"
   ]
  },
  {
   "cell_type": "code",
   "execution_count": 6,
   "metadata": {
    "collapsed": false
   },
   "outputs": [
    {
     "ename": "KeyboardInterrupt",
     "evalue": "",
     "output_type": "error",
     "traceback": [
      "\u001b[0;31m---------------------------------------------------------------------------\u001b[0m",
      "\u001b[0;31mKeyboardInterrupt\u001b[0m                         Traceback (most recent call last)",
      "\u001b[0;32m<ipython-input-6-57a088a2ba7b>\u001b[0m in \u001b[0;36m<module>\u001b[0;34m()\u001b[0m\n\u001b[1;32m     25\u001b[0m \u001b[0;31m#df_remote_station.head()\u001b[0m\u001b[0;34m\u001b[0m\u001b[0;34m\u001b[0m\u001b[0m\n\u001b[1;32m     26\u001b[0m \u001b[0;31m#dic_remote_station\u001b[0m\u001b[0;34m\u001b[0m\u001b[0;34m\u001b[0m\u001b[0m\n\u001b[0;32m---> 27\u001b[0;31m \u001b[0mdf_norm\u001b[0m\u001b[0;34m[\u001b[0m\u001b[0;34m\"Station\"\u001b[0m\u001b[0;34m]\u001b[0m \u001b[0;34m=\u001b[0m \u001b[0mdf_norm\u001b[0m\u001b[0;34m.\u001b[0m\u001b[0mapply\u001b[0m\u001b[0;34m(\u001b[0m \u001b[0;32mlambda\u001b[0m \u001b[0mx\u001b[0m\u001b[0;34m:\u001b[0m \u001b[0mdic_remote_station\u001b[0m\u001b[0;34m.\u001b[0m\u001b[0mget\u001b[0m\u001b[0;34m(\u001b[0m\u001b[0mx\u001b[0m\u001b[0;34m[\u001b[0m\u001b[0;34m\"UNIT\"\u001b[0m\u001b[0;34m]\u001b[0m\u001b[0;34m,\u001b[0m \u001b[0mNone\u001b[0m\u001b[0;34m)\u001b[0m\u001b[0;34m,\u001b[0m \u001b[0maxis\u001b[0m\u001b[0;34m=\u001b[0m\u001b[0;36m1\u001b[0m \u001b[0;34m)\u001b[0m\u001b[0;34m\u001b[0m\u001b[0m\n\u001b[0m\u001b[1;32m     28\u001b[0m \u001b[0;34m\u001b[0m\u001b[0m\n\u001b[1;32m     29\u001b[0m \u001b[0;31m# check the None value of Station\u001b[0m\u001b[0;34m\u001b[0m\u001b[0;34m\u001b[0m\u001b[0m\n",
      "\u001b[0;32m/Users/Wenjie/anaconda2/lib/python2.7/site-packages/pandas/core/frame.pyc\u001b[0m in \u001b[0;36mapply\u001b[0;34m(self, func, axis, broadcast, raw, reduce, args, **kwds)\u001b[0m\n\u001b[1;32m   4040\u001b[0m                     \u001b[0;32mif\u001b[0m \u001b[0mreduce\u001b[0m \u001b[0;32mis\u001b[0m \u001b[0mNone\u001b[0m\u001b[0;34m:\u001b[0m\u001b[0;34m\u001b[0m\u001b[0m\n\u001b[1;32m   4041\u001b[0m                         \u001b[0mreduce\u001b[0m \u001b[0;34m=\u001b[0m \u001b[0mTrue\u001b[0m\u001b[0;34m\u001b[0m\u001b[0m\n\u001b[0;32m-> 4042\u001b[0;31m                     \u001b[0;32mreturn\u001b[0m \u001b[0mself\u001b[0m\u001b[0;34m.\u001b[0m\u001b[0m_apply_standard\u001b[0m\u001b[0;34m(\u001b[0m\u001b[0mf\u001b[0m\u001b[0;34m,\u001b[0m \u001b[0maxis\u001b[0m\u001b[0;34m,\u001b[0m \u001b[0mreduce\u001b[0m\u001b[0;34m=\u001b[0m\u001b[0mreduce\u001b[0m\u001b[0;34m)\u001b[0m\u001b[0;34m\u001b[0m\u001b[0m\n\u001b[0m\u001b[1;32m   4043\u001b[0m             \u001b[0;32melse\u001b[0m\u001b[0;34m:\u001b[0m\u001b[0;34m\u001b[0m\u001b[0m\n\u001b[1;32m   4044\u001b[0m                 \u001b[0;32mreturn\u001b[0m \u001b[0mself\u001b[0m\u001b[0;34m.\u001b[0m\u001b[0m_apply_broadcast\u001b[0m\u001b[0;34m(\u001b[0m\u001b[0mf\u001b[0m\u001b[0;34m,\u001b[0m \u001b[0maxis\u001b[0m\u001b[0;34m)\u001b[0m\u001b[0;34m\u001b[0m\u001b[0m\n",
      "\u001b[0;32m/Users/Wenjie/anaconda2/lib/python2.7/site-packages/pandas/core/frame.pyc\u001b[0m in \u001b[0;36m_apply_standard\u001b[0;34m(self, func, axis, ignore_failures, reduce)\u001b[0m\n\u001b[1;32m   4096\u001b[0m                     \u001b[0mlabels\u001b[0m \u001b[0;34m=\u001b[0m \u001b[0mself\u001b[0m\u001b[0;34m.\u001b[0m\u001b[0m_get_agg_axis\u001b[0m\u001b[0;34m(\u001b[0m\u001b[0maxis\u001b[0m\u001b[0;34m)\u001b[0m\u001b[0;34m\u001b[0m\u001b[0m\n\u001b[1;32m   4097\u001b[0m                     result = lib.reduce(values, func, axis=axis, dummy=dummy,\n\u001b[0;32m-> 4098\u001b[0;31m                                         labels=labels)\n\u001b[0m\u001b[1;32m   4099\u001b[0m                     \u001b[0;32mreturn\u001b[0m \u001b[0mSeries\u001b[0m\u001b[0;34m(\u001b[0m\u001b[0mresult\u001b[0m\u001b[0;34m,\u001b[0m \u001b[0mindex\u001b[0m\u001b[0;34m=\u001b[0m\u001b[0mlabels\u001b[0m\u001b[0;34m)\u001b[0m\u001b[0;34m\u001b[0m\u001b[0m\n\u001b[1;32m   4100\u001b[0m                 \u001b[0;32mexcept\u001b[0m \u001b[0mException\u001b[0m\u001b[0;34m:\u001b[0m\u001b[0;34m\u001b[0m\u001b[0m\n",
      "\u001b[0;32mpandas/src/reduce.pyx\u001b[0m in \u001b[0;36mpandas.lib.reduce (pandas/lib.c:43789)\u001b[0;34m()\u001b[0m\n",
      "\u001b[0;32mpandas/src/reduce.pyx\u001b[0m in \u001b[0;36mpandas.lib.Reducer.get_result (pandas/lib.c:33800)\u001b[0;34m()\u001b[0m\n",
      "\u001b[0;32mpandas/src/properties.pyx\u001b[0m in \u001b[0;36mpandas.lib.AxisProperty.__set__ (pandas/lib.c:45018)\u001b[0;34m()\u001b[0m\n",
      "\u001b[0;32m/Users/Wenjie/anaconda2/lib/python2.7/site-packages/pandas/core/series.pyc\u001b[0m in \u001b[0;36m_set_axis\u001b[0;34m(self, axis, labels, fastpath)\u001b[0m\n\u001b[1;32m    267\u001b[0m     \u001b[0m_index\u001b[0m \u001b[0;34m=\u001b[0m \u001b[0mNone\u001b[0m\u001b[0;34m\u001b[0m\u001b[0m\n\u001b[1;32m    268\u001b[0m \u001b[0;34m\u001b[0m\u001b[0m\n\u001b[0;32m--> 269\u001b[0;31m     \u001b[0;32mdef\u001b[0m \u001b[0m_set_axis\u001b[0m\u001b[0;34m(\u001b[0m\u001b[0mself\u001b[0m\u001b[0;34m,\u001b[0m \u001b[0maxis\u001b[0m\u001b[0;34m,\u001b[0m \u001b[0mlabels\u001b[0m\u001b[0;34m,\u001b[0m \u001b[0mfastpath\u001b[0m\u001b[0;34m=\u001b[0m\u001b[0mFalse\u001b[0m\u001b[0;34m)\u001b[0m\u001b[0;34m:\u001b[0m\u001b[0;34m\u001b[0m\u001b[0m\n\u001b[0m\u001b[1;32m    270\u001b[0m         \u001b[0;34m\"\"\" override generic, we want to set the _typ here \"\"\"\u001b[0m\u001b[0;34m\u001b[0m\u001b[0m\n\u001b[1;32m    271\u001b[0m \u001b[0;34m\u001b[0m\u001b[0m\n",
      "\u001b[0;31mKeyboardInterrupt\u001b[0m: "
     ]
    }
   ],
   "source": [
    "# definition of \"station\"\n",
    "\n",
    "# data source: Remote-Booth-Station.xls\n",
    "remote_station_xls = pd.ExcelFile(work_path + \"/\" + \"Remote-Booth-Station.xls\")\n",
    "df_remote_station  = remote_station_xls.parse( \"Remote-Booth-Station (3)\" )\n",
    "\n",
    "# we need to link the following key value in main data set:\n",
    "#     UNIT = Remote Unit for a station (R051)\n",
    "# to Station in this data source\n",
    "\n",
    "# note that \"Remote\" means the entrance of a station. Conceptually, a station has many entrances and\n",
    "# many line of trains. Therefor, we assume station and remote is \"one-to-many\" mapping, which can be\n",
    "# verified by the data. But occationally, a remote can be mapped to more than one stations. We consider\n",
    "# them as data oddities at this moment for simplification purpose.\n",
    "\n",
    "# remote => station mapping\n",
    "dic_remote_station = {}\n",
    "for idx, row in df_remote_station.iterrows():\n",
    "    remote  = row[\"Remote\"]\n",
    "    station = row[\"Station\"]\n",
    "    if remote not in dic_remote_station.keys():\n",
    "        dic_remote_station[remote] = station\n",
    "    \n",
    "\n",
    "#df_remote_station.head()\n",
    "#dic_remote_station\n",
    "df_norm[\"Station\"] = df_norm.apply( lambda x: dic_remote_station.get(x[\"UNIT\"], None), axis=1 )\n",
    "\n",
    "# check the None value of Station\n",
    "#df_norm[ pd.isnull(df_norm[\"Station\"]) ].shape\n",
    "\n",
    "df_norm.head()"
   ]
  },
  {
   "cell_type": "code",
   "execution_count": null,
   "metadata": {
    "collapsed": false
   },
   "outputs": [],
   "source": [
    "# many None values in Date and Time column\n",
    "sum(pd.isnull(df_norm[\"Date\"]) | pd.isnull(df_norm[\"Time\"]))"
   ]
  },
  {
   "cell_type": "code",
   "execution_count": null,
   "metadata": {
    "collapsed": false
   },
   "outputs": [],
   "source": [
    "df_norm = df_norm[ pd.notnull(df_norm[\"Date\"]) & pd.notnull(df_norm[\"Time\"]) ]\n",
    "df_norm.shape"
   ]
  },
  {
   "cell_type": "code",
   "execution_count": null,
   "metadata": {
    "collapsed": false
   },
   "outputs": [],
   "source": [
    "# datetime convertion\n",
    "\n",
    "def convert_date_time( dt_str, tm_str ):\n",
    "    \"\"\" convert datetime str to datetime obj \"\"\"\n",
    "    \n",
    "    t_str = dt_str + \" \" + tm_str\n",
    "    try:\n",
    "        return datetime.strptime(t_str, '%m-%d-%y %H:%M:%S')\n",
    "    except ValueError:\n",
    "        return None\n",
    "\n",
    "df_norm[\"DateTime\"] = df_norm.apply( lambda x: convert_date_time(str(x['Date']), str(x['Time'])), axis=1 )\n",
    "\n",
    "# drop None DateTime entries\n",
    "df_norm = df_norm[ pd.notnull(df_norm[\"DateTime\"]) ]\n",
    "df_norm.shape"
   ]
  },
  {
   "cell_type": "code",
   "execution_count": null,
   "metadata": {
    "collapsed": false
   },
   "outputs": [],
   "source": [
    "df_norm.head()"
   ]
  },
  {
   "cell_type": "code",
   "execution_count": null,
   "metadata": {
    "collapsed": true
   },
   "outputs": [],
   "source": [
    "# hourly / daily traffic calculation for each device\n",
    "# not sure about 'Desc' column, here we calculate the trafffic number for all types of 'Desc\"."
   ]
  },
  {
   "cell_type": "code",
   "execution_count": null,
   "metadata": {
    "collapsed": false
   },
   "outputs": [],
   "source": [
    "# hourly calcualtion (at device level)\n",
    "\n",
    "# groupped at device level\n",
    "df_norm_grp = df_norm.groupby( [\"Station\",\"C/A\",\"UNIT\",\"SCP\"] )\n",
    "#len(df_norm_grp)\n",
    "\n",
    "def cal_hourly_traffic( df ):\n",
    "    \"\"\" calculate hourly traffic \"\"\"\n",
    "    t_df = df.sort_values( by=\"DateTime\" )\n",
    "    \n",
    "    t_df.loc[:, \"EntriesLag\"]    = t_df[\"Entries\"].shift(periods=1)\n",
    "    t_df.loc[:, \"ExitsLag\"]      = t_df[\"Exits\"].shift(periods=1)\n",
    "\n",
    "    t_df.loc[:, \"EntryTraffic\"]  = t_df[\"Entries\"] - t_df[\"EntriesLag\"]\n",
    "    t_df.loc[:, \"ExitTraffic\"]   = t_df[\"Exits\"] - t_df[\"ExitsLag\"]\n",
    "\n",
    "    t_df.loc[:, \"HourlyTraffic\"] = t_df[\"EntryTraffic\"] + t_df[\"ExitTraffic\"]\n",
    "    \n",
    "    return t_df.copy()\n",
    "\n",
    "\n",
    "df_hourly_list = []\n",
    "for name, group in df_norm_grp:\n",
    "    df = cal_hourly_traffic( df_norm_grp.get_group(name) )\n",
    "    df_hourly_list.append(df)    \n",
    "df_hourly = pd.concat(df_hourly_list)\n",
    "df_hourly.shape\n",
    "\n",
    "#df_norm_grp.get_group((\"59 ST\", \"A002\",\"R051\",\"02-00-00\")).head()"
   ]
  },
  {
   "cell_type": "code",
   "execution_count": null,
   "metadata": {
    "collapsed": false
   },
   "outputs": [],
   "source": [
    "# anormilies and outliers cleaning\n",
    "\n",
    "# 1. check monotonic trend of accumulated value, i.e., negative delta\n",
    "#    we did find negative EntryTraffic and ExitTraffic. It means Entries and Exits do NOT \n",
    "#    increase monotonically over time. There are three ways to handle this situation\n",
    "#       a. replace with zeros    -  this is misleading because it can be interpretted as device shutdown.\n",
    "#       b. get absolute value    -  this may work, but the impact is unknown. it may mess up the stats later\n",
    "#       c. drop negative entries - this solution is adopted here for simplicity purpose\n",
    "\n",
    "# drop negative / none entries\n",
    "df_hourly = df_hourly[ (df_hourly[\"EntryTraffic\"] >= 0)  |  (df_hourly[\"ExitTraffic\"] >= 0)  ]\n",
    "df_hourly.shape\n",
    "\n",
    "df_hourly.to_pickle('df_hourly.pickle')"
   ]
  },
  {
   "cell_type": "code",
   "execution_count": null,
   "metadata": {
    "collapsed": false
   },
   "outputs": [],
   "source": [
    "# 2. check outliers\n",
    "# the definition of \"outlier\" is 6 standard deviations away from this mean.\n",
    "\n",
    "# daily traffic calculation (at device level)\n",
    "\n",
    "# create a device ID for further analysis\n",
    "df_hourly[\"DeviceID\"] = df_hourly[\"C/A\"] + \"-\" + df_hourly[\"UNIT\"] + \"-\" + df_hourly[\"SCP\"]\n",
    "\n",
    "# groupped at device/daily level\n",
    "df_daily_grp = df_hourly.groupby( [\"Station\", \"DeviceID\", \"Date\"] )\n",
    "\n",
    "# calculate daily traffic at device level\n",
    "df_daily = df_daily_grp[\"HourlyTraffic\"].agg({'DailyTraffic': np.sum})\n",
    "df_daily = df_daily.reset_index()\n",
    "\n",
    "#df_daily.head()\n",
    "\n",
    "# get daily stats\n",
    "daily_stats = df_daily.groupby([\"Station\", \"DeviceID\"])[\"DailyTraffic\"].agg( {\"DailyMean\": np.mean, \n",
    "                                                                              \"DailyStd\" : np.std} )\n",
    "daily_stats = daily_stats.reset_index()\n",
    "#daily_stats.head()\n",
    "\n",
    "df_daily = pd.merge(df_daily, daily_stats, on=[\"Station\",\"DeviceID\"], how='inner');\n",
    "#df_daily.head()\n",
    "\n",
    "# drop outliers\n",
    "df_daily = df_daily[ df_daily[\"DailyTraffic\"] <= (df_daily[\"DailyMean\"] + 6.0 * df_daily[\"DailyStd\"]) ]\n",
    "df_daily.shape"
   ]
  },
  {
   "cell_type": "markdown",
   "metadata": {},
   "source": [
    "# Step 3 - data analysis:\n",
    "-                 Which station has the most number of units?\n",
    "-                 What is the total number of entries & exits across the subway system for August 1, 2013?\n",
    "-                 Let’s define the busy-ness as sum of entry & exit count. What station was the busiest on August 1, 2013? What turnstile was the busiest on that date?\n",
    "-                 What stations have seen the most usage growth/decline in 2013?\n",
    "-                 What dates are the least busy? Could you identify days on which stations were not operating at full capacity or closed entirely?"
   ]
  },
  {
   "cell_type": "markdown",
   "metadata": {},
   "source": [
    "# Step 4 - data visualization:\n",
    "-                 Plot the daily row counts for data files in Q3 2013.\n",
    "-                 Plot the daily total number of entries & exits across the system for Q3 2013.\n",
    "-                 Plot the mean and standard deviation of the daily total number of entries & exits for each month in Q3 2013 for station 34 ST-PENN STA.\n",
    "-                 Plot 25/50/75 percentile of the daily total number of entries & exits for each month in Q3 2013 for station 34 ST-PENN STA.\n",
    "-                 Plot the daily number of closed stations and number of stations that were not operating at full capacity in Q3 2013.\n",
    " "
   ]
  }
 ],
 "metadata": {
  "kernelspec": {
   "display_name": "Python 2",
   "language": "python",
   "name": "python2"
  },
  "language_info": {
   "codemirror_mode": {
    "name": "ipython",
    "version": 2
   },
   "file_extension": ".py",
   "mimetype": "text/x-python",
   "name": "python",
   "nbconvert_exporter": "python",
   "pygments_lexer": "ipython2",
   "version": "2.7.11"
  }
 },
 "nbformat": 4,
 "nbformat_minor": 0
}
