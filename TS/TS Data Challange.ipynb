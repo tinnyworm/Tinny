{
 "cells": [
  {
   "cell_type": "markdown",
   "metadata": {},
   "source": [
    "# NYC MTA Turnstile Usage Dataset\n",
    "\n",
    "Have a look at / download the following dataset :\n",
    "\n",
    "- Go to http://web.mta.info/developers/turnstile.html\n",
    "- This dataset shows entry & exit counter values for each turnstile-device in each station in the NYC Subway System.\n",
    "- Note these aren’t counts per interval, but equivalent to an “odometer” reading for each device.\n",
    " "
   ]
  },
  {
   "cell_type": "markdown",
   "metadata": {},
   "source": [
    "# Step 0 - data download\n",
    "\n",
    "Tool used: Firefox plugin --- DownThemAll!!!\n",
    "\n",
    "Since the analytics and visulization tasks are based on 2013 data stats. I only downloaded the last day of 2011, all 2012 data, all 2013 data, and the first day of 2014."
   ]
  },
  {
   "cell_type": "code",
   "execution_count": 214,
   "metadata": {
    "collapsed": true
   },
   "outputs": [],
   "source": [
    "# files were downloaded to \n",
    "work_path = \"/Users/Wenjie/Projects/GitHub/Tinny/TS/MTA\""
   ]
  },
  {
   "cell_type": "markdown",
   "metadata": {},
   "source": [
    "# Step 1 - raw data load"
   ]
  },
  {
   "cell_type": "code",
   "execution_count": 215,
   "metadata": {
    "collapsed": false
   },
   "outputs": [],
   "source": [
    "import numpy  as np\n",
    "import pandas as pd\n",
    "\n",
    "import os, sys\n",
    "import csv\n",
    "import glob\n",
    "\n",
    "from datetime import datetime\n",
    "from glob     import glob\n",
    "\n",
    "# working place\n",
    "#work_path = \"/Users/Wenjie/Projects/GitHub/Tinny/TS/MTA\"\n",
    "#file_list = glob( work_path + \"/*.txt\" )"
   ]
  },
  {
   "cell_type": "code",
   "execution_count": 196,
   "metadata": {
    "collapsed": false
   },
   "outputs": [
    {
     "data": {
      "text/plain": [
       "3"
      ]
     },
     "execution_count": 196,
     "metadata": {},
     "output_type": "execute_result"
    }
   ],
   "source": [
    "#file_list = glob( work_path + \"/*.txt\" )\n",
    "file_list = [\"turnstile_130601.txt\", \"turnstile_130608.txt\", \"turnstile_130615.txt\"]\n",
    "\n",
    "# header used\n",
    "header = (\"C/A,UNIT,SCP,\" + \\\n",
    "          \"DATE1,TIME1,DESC1,ENTRIES1,EXITS1,DATE2,TIME2,DESC2,ENTRIES2,EXITS2,\" + \\\n",
    "          \"DATE3,TIME3,DESC3,ENTRIES3,EXITS3,DATE4,TIME4,DESC4,ENTRIES4,EXITS4,\" + \\\n",
    "          \"DATE5,TIME5,DESC5,ENTRIES5,EXITS5,DATE6,TIME6,DESC6,ENTRIES6,EXITS6,\" + \\\n",
    "          \"DATE7,TIME7,DESC7,ENTRIES7,EXITS7,DATE8,TIME8,DESC8,ENTRIES8,EXITS8\").split(\",\")\n",
    "\n",
    "df_raw_list = []\n",
    "for filename in file_list:\n",
    "    df_raw = pd.read_csv(work_path + \"/\" + filename, sep = ',', header = None)\n",
    "    #df_raw = pd.read_csv(filename, sep = ',', header = None)\n",
    "    df_raw.columns = header\n",
    "    df_raw_list.append( df_raw )\n",
    "\n",
    "#df_raw = pd.read_csv(work_path + \"/\" + filename, sep = ',', header = None)\n",
    "#df_raw.shape\n",
    "#df_raw.head()\n",
    "len(df_raw_list)"
   ]
  },
  {
   "cell_type": "code",
   "execution_count": 198,
   "metadata": {
    "collapsed": false
   },
   "outputs": [],
   "source": [
    "# convert format from\n",
    "\n",
    "# ca,unit,scp,rec1 ... rec8\n",
    "# .\n",
    "# .\n",
    "# to\n",
    "# ca,unit,scp,rec1\n",
    "# ca,unit,scp,rec2\n",
    "# .\n",
    "# .\n",
    "\n",
    "def mta_df_normalization( df ):\n",
    "    \"\"\" normalize the data frame. claps datetime, desc, entries, and exists \"\"\"\n",
    "    \n",
    "    columns_name = [\"C/A\",\"UNIT\",\"SCP\",\"Date\",\"Time\",\"Desc\",\"Entries\",\"Exits\"]    \n",
    "    df_out       = pd.DataFrame(columns = columns_name)\n",
    "    \n",
    "    rec_1 = df[ [\"C/A\",\"UNIT\",\"SCP\",\"DATE1\",\"TIME1\",\"DESC1\",\"ENTRIES1\",\"EXITS1\"] ]; rec_1.columns = columns_name\n",
    "    rec_2 = df[ [\"C/A\",\"UNIT\",\"SCP\",\"DATE2\",\"TIME2\",\"DESC2\",\"ENTRIES2\",\"EXITS2\"] ]; rec_2.columns = columns_name \n",
    "    rec_3 = df[ [\"C/A\",\"UNIT\",\"SCP\",\"DATE3\",\"TIME3\",\"DESC3\",\"ENTRIES3\",\"EXITS3\"] ]; rec_3.columns = columns_name\n",
    "    rec_4 = df[ [\"C/A\",\"UNIT\",\"SCP\",\"DATE4\",\"TIME4\",\"DESC4\",\"ENTRIES4\",\"EXITS4\"] ]; rec_4.columns = columns_name\n",
    "    rec_5 = df[ [\"C/A\",\"UNIT\",\"SCP\",\"DATE5\",\"TIME5\",\"DESC5\",\"ENTRIES5\",\"EXITS5\"] ]; rec_5.columns = columns_name\n",
    "    rec_6 = df[ [\"C/A\",\"UNIT\",\"SCP\",\"DATE6\",\"TIME6\",\"DESC6\",\"ENTRIES6\",\"EXITS6\"] ]; rec_6.columns = columns_name\n",
    "    rec_7 = df[ [\"C/A\",\"UNIT\",\"SCP\",\"DATE7\",\"TIME7\",\"DESC7\",\"ENTRIES7\",\"EXITS7\"] ]; rec_7.columns = columns_name\n",
    "    rec_8 = df[ [\"C/A\",\"UNIT\",\"SCP\",\"DATE8\",\"TIME8\",\"DESC8\",\"ENTRIES8\",\"EXITS8\"] ]; rec_8.columns = columns_name\n",
    "    \n",
    "    df_out = pd.concat( [rec_1, rec_2, rec_3, rec_4, rec_5, rec_6, rec_7, rec_8] )\n",
    "    \n",
    "    return df_out\n",
    "\n",
    "norm_list = [ mta_df_normalization( df ) for df in df_raw_list]\n",
    "df_norm   = pd.concat( norm_list )"
   ]
  },
  {
   "cell_type": "code",
   "execution_count": 200,
   "metadata": {
    "collapsed": false
   },
   "outputs": [],
   "source": [
    "#test = mta_df_normalization( df_raw )\n",
    "#test.shape\n",
    "#test[70:80]\n",
    "#test[\"DateTime\"] = test.apply( lambda x: convert_date_time( x[\"Date\"] + \" \" + x[\"Time\"] ) )"
   ]
  },
  {
   "cell_type": "code",
   "execution_count": 201,
   "metadata": {
    "collapsed": false
   },
   "outputs": [
    {
     "data": {
      "text/plain": [
       "(718160, 8)"
      ]
     },
     "execution_count": 201,
     "metadata": {},
     "output_type": "execute_result"
    }
   ],
   "source": [
    "#test[\"DateTime\"] = test.apply( lambda x: convert_date_time( str(x[\"Date\"]) + \" \" + str(x[\"Time\"]) ) )\n",
    "#test[\"DateTime\"] = test.apply( lambda x: convert_date_time(str(x['Date']), str(x['Time'])), axis=1 )\n",
    "df_norm.shape"
   ]
  },
  {
   "cell_type": "markdown",
   "metadata": {},
   "source": [
    "# Step 2 - data pre-processing / cleaning\n",
    "\n",
    "- definiton of \"station\"\n",
    "- datetime convertion\n",
    "- hourly traffic calculation\n",
    "- anormilies and outliers cleaning"
   ]
  },
  {
   "cell_type": "code",
   "execution_count": 238,
   "metadata": {
    "collapsed": false
   },
   "outputs": [
    {
     "data": {
      "text/plain": [
       "(0, 10)"
      ]
     },
     "execution_count": 238,
     "metadata": {},
     "output_type": "execute_result"
    }
   ],
   "source": [
    "# definition of \"station\"\n",
    "\n",
    "# data source: Remote-Booth-Station.xls\n",
    "remote_station_xls = pd.ExcelFile(work_path + \"/\" + \"Remote-Booth-Station.xls\")\n",
    "df_remote_station  = remote_station_xls.parse( \"Remote-Booth-Station (3)\" )\n",
    "\n",
    "# we need to link the following key value in main data set:\n",
    "#     UNIT = Remote Unit for a station (R051)\n",
    "# to Station in this data source\n",
    "\n",
    "# note that \"Remote\" means the entrance of a station. Conceptually, a station has many entrances and\n",
    "# many line of trains. Therefor, we assume station and remote is \"one-to-many\" mapping, which can be\n",
    "# verified by the data. But occationally, a remote can be mapped to more than one stations. We consider\n",
    "# them as data oddities at this moment for simplification purpose.\n",
    "\n",
    "# remote => station mapping\n",
    "dic_remote_station = {}\n",
    "for idx, row in df_remote_station.iterrows():\n",
    "    remote  = row[\"Remote\"]\n",
    "    station = row[\"Station\"]\n",
    "    if remote not in dic_remote_station.keys():\n",
    "        dic_remote_station[remote] = station\n",
    "    \n",
    "\n",
    "#df_remote_station.head()\n",
    "#dic_remote_station\n",
    "df_norm[\"Station\"] = df_norm.apply( lambda x: dic_remote_station.get(x[\"UNIT\"], None), axis=1 )\n",
    "# check the None value of Station\n",
    "df_norm[ pd.isnull(df_norm[\"Station\"]) ].shape"
   ]
  },
  {
   "cell_type": "code",
   "execution_count": null,
   "metadata": {
    "collapsed": true
   },
   "outputs": [],
   "source": [
    "# datetime convertion"
   ]
  },
  {
   "cell_type": "code",
   "execution_count": 245,
   "metadata": {
    "collapsed": false
   },
   "outputs": [
    {
     "data": {
      "text/plain": [
       "(666606, 10)"
      ]
     },
     "execution_count": 245,
     "metadata": {},
     "output_type": "execute_result"
    }
   ],
   "source": [
    "def convert_date_time( dt_str, tm_str ):\n",
    "    \"\"\" convert datetime str to datetime obj \"\"\"\n",
    "    \n",
    "    t_str = dt_str + \" \" + tm_str\n",
    "    try:\n",
    "        return datetime.strptime(t_str, '%m-%d-%y %H:%M:%S')\n",
    "    except ValueError:\n",
    "        return None\n",
    "\n",
    "df_norm[\"DateTime\"] = df_norm.apply( lambda x: convert_date_time(str(x['Date']), str(x['Time'])), axis=1 )\n",
    "\n",
    "# drop None DateTime entries\n",
    "df_norm = df_norm[ pd.notnull(df_norm[\"DateTime\"]) ]\n",
    "df_norm.shape"
   ]
  },
  {
   "cell_type": "code",
   "execution_count": 240,
   "metadata": {
    "collapsed": false
   },
   "outputs": [
    {
     "data": {
      "text/html": [
       "<div>\n",
       "<table border=\"1\" class=\"dataframe\">\n",
       "  <thead>\n",
       "    <tr style=\"text-align: right;\">\n",
       "      <th></th>\n",
       "      <th>C/A</th>\n",
       "      <th>UNIT</th>\n",
       "      <th>SCP</th>\n",
       "      <th>Date</th>\n",
       "      <th>Time</th>\n",
       "      <th>Desc</th>\n",
       "      <th>Entries</th>\n",
       "      <th>Exits</th>\n",
       "      <th>DateTime</th>\n",
       "      <th>Station</th>\n",
       "    </tr>\n",
       "  </thead>\n",
       "  <tbody>\n",
       "    <tr>\n",
       "      <th>0</th>\n",
       "      <td>A002</td>\n",
       "      <td>R051</td>\n",
       "      <td>02-00-00</td>\n",
       "      <td>05-25-13</td>\n",
       "      <td>00:00:00</td>\n",
       "      <td>REGULAR</td>\n",
       "      <td>4134240.0</td>\n",
       "      <td>1421141.0</td>\n",
       "      <td>2013-05-25 00:00:00</td>\n",
       "      <td>59 ST</td>\n",
       "    </tr>\n",
       "    <tr>\n",
       "      <th>1</th>\n",
       "      <td>A002</td>\n",
       "      <td>R051</td>\n",
       "      <td>02-00-00</td>\n",
       "      <td>05-26-13</td>\n",
       "      <td>08:00:00</td>\n",
       "      <td>REGULAR</td>\n",
       "      <td>4135142.0</td>\n",
       "      <td>1421455.0</td>\n",
       "      <td>2013-05-26 08:00:00</td>\n",
       "      <td>59 ST</td>\n",
       "    </tr>\n",
       "    <tr>\n",
       "      <th>2</th>\n",
       "      <td>A002</td>\n",
       "      <td>R051</td>\n",
       "      <td>02-00-00</td>\n",
       "      <td>05-27-13</td>\n",
       "      <td>16:00:00</td>\n",
       "      <td>REGULAR</td>\n",
       "      <td>4136076.0</td>\n",
       "      <td>1421853.0</td>\n",
       "      <td>2013-05-27 16:00:00</td>\n",
       "      <td>59 ST</td>\n",
       "    </tr>\n",
       "    <tr>\n",
       "      <th>3</th>\n",
       "      <td>A002</td>\n",
       "      <td>R051</td>\n",
       "      <td>02-00-00</td>\n",
       "      <td>05-29-13</td>\n",
       "      <td>00:00:00</td>\n",
       "      <td>REGULAR</td>\n",
       "      <td>4138040.0</td>\n",
       "      <td>1422467.0</td>\n",
       "      <td>2013-05-29 00:00:00</td>\n",
       "      <td>59 ST</td>\n",
       "    </tr>\n",
       "    <tr>\n",
       "      <th>4</th>\n",
       "      <td>A002</td>\n",
       "      <td>R051</td>\n",
       "      <td>02-00-00</td>\n",
       "      <td>05-30-13</td>\n",
       "      <td>08:00:00</td>\n",
       "      <td>REGULAR</td>\n",
       "      <td>4139863.0</td>\n",
       "      <td>1423127.0</td>\n",
       "      <td>2013-05-30 08:00:00</td>\n",
       "      <td>59 ST</td>\n",
       "    </tr>\n",
       "  </tbody>\n",
       "</table>\n",
       "</div>"
      ],
      "text/plain": [
       "    C/A  UNIT       SCP      Date      Time     Desc    Entries      Exits  \\\n",
       "0  A002  R051  02-00-00  05-25-13  00:00:00  REGULAR  4134240.0  1421141.0   \n",
       "1  A002  R051  02-00-00  05-26-13  08:00:00  REGULAR  4135142.0  1421455.0   \n",
       "2  A002  R051  02-00-00  05-27-13  16:00:00  REGULAR  4136076.0  1421853.0   \n",
       "3  A002  R051  02-00-00  05-29-13  00:00:00  REGULAR  4138040.0  1422467.0   \n",
       "4  A002  R051  02-00-00  05-30-13  08:00:00  REGULAR  4139863.0  1423127.0   \n",
       "\n",
       "             DateTime Station  \n",
       "0 2013-05-25 00:00:00   59 ST  \n",
       "1 2013-05-26 08:00:00   59 ST  \n",
       "2 2013-05-27 16:00:00   59 ST  \n",
       "3 2013-05-29 00:00:00   59 ST  \n",
       "4 2013-05-30 08:00:00   59 ST  "
      ]
     },
     "execution_count": 240,
     "metadata": {},
     "output_type": "execute_result"
    }
   ],
   "source": [
    "df_norm.head()"
   ]
  },
  {
   "cell_type": "code",
   "execution_count": null,
   "metadata": {
    "collapsed": true
   },
   "outputs": [],
   "source": [
    "# hourly traffic calculation for each device"
   ]
  },
  {
   "cell_type": "code",
   "execution_count": 246,
   "metadata": {
    "collapsed": true
   },
   "outputs": [],
   "source": [
    "# groupped at device level\n",
    "df_norm_grp = df_norm.groupby( [\"Station\",\"C/A\",\"UNIT\",\"SCP\"] )"
   ]
  },
  {
   "cell_type": "code",
   "execution_count": null,
   "metadata": {
    "collapsed": false
   },
   "outputs": [],
   "source": [
    "df_hourly_list = []\n",
    "for name, group in df_norm_grp:\n",
    "    t_df = df_norm_grp.get_group(name)\n",
    "    \n",
    "    t_df[\"EntriesLag\"]    = t_df[\"Entries\"].shift(periods=1)\n",
    "    t_df[\"ExitsLag\"]      = t_df[\"Exits\"].shift(periods=1)\n",
    "\n",
    "    t_df[\"EntryTraffic\"]  = t_df[\"Entries\"] - t_df[\"EntriesLag\"]\n",
    "    t_df[\"ExitTraffic\"]   = t_df[\"Exits\"] - t_df[\"ExitsLag\"]\n",
    "\n",
    "    t_df[\"HourlyTraffic\"] = t_df[\"EntryTraffic\"] + t_df[\"ExitTraffic\"]\n",
    "\n",
    "    df_hourly_list.append(group)\n",
    "    \n",
    "df_hourly = pd.concat(df_hourly_list)\n",
    "df_hourly.shape\n",
    "\n",
    "#df_norm_grp.get_group((\"59 ST\", \"A002\",\"R051\",\"02-00-00\")).head()\n",
    "\n",
    "# testing a bit\n",
    "#df_test = df_norm_grp.get_group((\"59 ST\", \"A002\",\"R051\",\"02-00-00\")).head()\n",
    "#df_test.head()\n",
    "\n",
    "# testing a bit\n",
    "# df_test = df_norm_grp.get_group((\"59 ST\", \"A002\",\"R051\",\"02-00-00\")).head()\n",
    "# df_test.head()\n",
    "\n",
    "# df_test[\"EntriesLag\"] = df_test[\"Entries\"].shift(periods=1)\n",
    "# df_test[\"ExitsLag\"]   = df_test[\"Exits\"].shift(periods=1)\n",
    "\n",
    "# df_test[\"EntryTraffic\"] = df_test[\"Entries\"] - df_test[\"EntriesLag\"]\n",
    "# df_test[\"ExitTraffic\"]  = df_test[\"Exits\"] - df_test[\"ExitsLag\"]\n",
    "\n",
    "# df_test[\"HourlyTraffic\"] = df_test[\"EntryTraffic\"] + df_test[\"ExitTraffic\"]\n",
    "\n",
    "# df_test.head()"
   ]
  },
  {
   "cell_type": "code",
   "execution_count": null,
   "metadata": {
    "collapsed": true
   },
   "outputs": [],
   "source": [
    "df_hourly.head()"
   ]
  },
  {
   "cell_type": "code",
   "execution_count": null,
   "metadata": {
    "collapsed": true
   },
   "outputs": [],
   "source": [
    "# anormilies and outliers cleaning\n",
    "\n",
    "# 1. check monotonic trend of accumulated value, i.e., negative delta\n",
    "#    we did find negative EntryTraffic and ExitTraffic. It means Entries and Exits do NOT \n",
    "#    increase monotonically over time. There are three ways to handle this situation\n",
    "#       a. replace with zeros    -  this is misleading because it can be interpretted as device shutdown.\n",
    "#       b. get absolute value    -  this may work, but the impact is unknown. it may mess up the stats later\n",
    "#       c. drop negative entries - this solution is adopted here for simplicity purpose\n",
    "\n"
   ]
  },
  {
   "cell_type": "code",
   "execution_count": null,
   "metadata": {
    "collapsed": true
   },
   "outputs": [],
   "source": [
    "# 2. check outliers\n",
    "# the definition of \"outlier\" is 6 standard deviations away from this mean.\n"
   ]
  },
  {
   "cell_type": "markdown",
   "metadata": {},
   "source": [
    "# Step 3 - data analysis:\n",
    "-                 Which station has the most number of units?\n",
    "-                 What is the total number of entries & exits across the subway system for August 1, 2013?\n",
    "-                 Let’s define the busy-ness as sum of entry & exit count. What station was the busiest on August 1, 2013? What turnstile was the busiest on that date?\n",
    "-                 What stations have seen the most usage growth/decline in 2013?\n",
    "-                 What dates are the least busy? Could you identify days on which stations were not operating at full capacity or closed entirely?"
   ]
  },
  {
   "cell_type": "markdown",
   "metadata": {},
   "source": [
    "# Step 4 - data visualization:\n",
    "-                 Plot the daily row counts for data files in Q3 2013.\n",
    "-                 Plot the daily total number of entries & exits across the system for Q3 2013.\n",
    "-                 Plot the mean and standard deviation of the daily total number of entries & exits for each month in Q3 2013 for station 34 ST-PENN STA.\n",
    "-                 Plot 25/50/75 percentile of the daily total number of entries & exits for each month in Q3 2013 for station 34 ST-PENN STA.\n",
    "-                 Plot the daily number of closed stations and number of stations that were not operating at full capacity in Q3 2013.\n",
    " "
   ]
  }
 ],
 "metadata": {
  "kernelspec": {
   "display_name": "Python 2",
   "language": "python",
   "name": "python2"
  },
  "language_info": {
   "codemirror_mode": {
    "name": "ipython",
    "version": 2
   },
   "file_extension": ".py",
   "mimetype": "text/x-python",
   "name": "python",
   "nbconvert_exporter": "python",
   "pygments_lexer": "ipython2",
   "version": "2.7.11"
  }
 },
 "nbformat": 4,
 "nbformat_minor": 0
}
